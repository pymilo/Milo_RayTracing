{
 "cells": [
  {
   "cell_type": "markdown",
   "metadata": {},
   "source": [
    "# Time performance foxsisim After reflecivity speed up"
   ]
  },
  {
   "cell_type": "markdown",
   "metadata": {},
   "source": [
    "Using the **cProfile** python module (suggested by Albert Shi) we were able to test the performance of the program and find out the reason the inclusion of the energy response was taking so much time of the simulation. After some close look of the problem we found the the function responsable for 98% of the procesing time was the *griddata* function in *reflectivity.py*. Wroking with Steven Christe, we changed the function to **inter2d** that not only will work faster but also will give the right reflectivity of the foxsi optics (we found a bug in the old version). <br /> \n",
    "\n",
    "<div class=\"alert alert-success\"> \n",
    "Today, July 11, 2017, Steven merged the foxsisim repository with the new version of the reflectivity. The idea is to run this notebook as well as *Time-testing-reflectivity-after-speed-up* to check the inprovement in time.\n",
    "</div>"
   ]
  },
  {
   "cell_type": "markdown",
   "metadata": {},
   "source": [
    "## Including Energy response for 1000 rays"
   ]
  },
  {
   "cell_type": "code",
   "execution_count": 1,
   "metadata": {
    "collapsed": true
   },
   "outputs": [],
   "source": [
    "import cProfile\n",
    "from foxsisim.module import Module\n",
    "from foxsisim.detector import Detector\n",
    "from foxsisim.source import Source\n",
    "from foxsisim.plotting import plot,scatterHist\n",
    "import matplotlib.pyplot as plt\n",
    "import numpy as np\n",
    "\n",
    "max_energy = 30.0\n",
    "nrays = 1000\n",
    "\n",
    "def spectrum(z):\n",
    "        if (type(z) is not type([1])) and (type(z) is not type(np.array(1))):\n",
    "            x = np.array([z])\n",
    "        else:\n",
    "            x = np.array(z)\n",
    "        return np.piecewise(x, [x < 0, ((x < max_energy) & (x > 0)), (x >= max_energy)], [0, 1./max_energy, 0])\n",
    "\n",
    "source_distance = -1e4 ##cm\n",
    "source = Source(type='point', center=[0, 0, source_distance])\n",
    "source.loadSpectrum(spectrum)\n",
    "energies = np.arange(-10, 60, 0.1)\n",
    "\n",
    "module = Module(radii=[5.151,4.9],focal=200.0)\n",
    "detector = Detector(width=8,\n",
    "                    height=8,\n",
    "                    normal = [0,0,1],\n",
    "                    center = [0,0,230],\n",
    "                    reso = [1024,1024])"
   ]
  },
  {
   "cell_type": "code",
   "execution_count": 2,
   "metadata": {
    "scrolled": true
   },
   "outputs": [
    {
     "name": "stdout",
     "output_type": "stream",
     "text": [
      "         52843572 function calls (52843568 primitive calls) in 61.548 seconds\n",
      "\n",
      "   Ordered by: standard name\n",
      "\n",
      "   ncalls  tottime  percall  cumtime  percall filename:lineno(function)\n",
      "  1925490   14.070    0.000   54.973    0.000 <ipython-input-1-9ae8287834ed>:12(spectrum)\n",
      "        1    0.000    0.000   61.548   61.548 <string>:1(<module>)\n",
      "        3    0.000    0.000    0.000    0.000 <string>:12(__new__)\n",
      "        1    0.000    0.000    0.000    0.000 <string>:2(<module>)\n",
      "     8384    0.002    0.000    0.002    0.000 <string>:2(_parse_args)\n",
      "        1    0.000    0.000    0.000    0.000 <string>:5(_parse_args_rvs)\n",
      "        1    0.000    0.000    0.001    0.001 _distn_infrastructure.py:1484(__init__)\n",
      "     8384    0.023    0.000   61.489    0.007 _distn_infrastructure.py:1565(_ppf_to_solve)\n",
      "     1000    0.010    0.000   61.514    0.062 _distn_infrastructure.py:1568(_ppf_single)\n",
      "     8384    0.288    0.000   61.467    0.007 _distn_infrastructure.py:1706(cdf)\n",
      "        3    0.000    0.000    0.000    0.000 _distn_infrastructure.py:43(instancemethod)\n",
      "     8384    0.022    0.000    0.252    0.000 _distn_infrastructure.py:524(argsreduce)\n",
      "     8384    0.031    0.000    0.169    0.000 _distn_infrastructure.py:549(<listcomp>)\n",
      "        1    0.000    0.000    0.000    0.000 _distn_infrastructure.py:591(__init__)\n",
      "        1    0.000    0.000    0.000    0.000 _distn_infrastructure.py:626(_construct_argparser)\n",
      "        1    0.000    0.000    0.001    0.001 _distn_infrastructure.py:706(_construct_doc)\n",
      "        1    0.000    0.000    0.000    0.000 _distn_infrastructure.py:714(<genexpr>)\n",
      "        1    0.000    0.000    0.001    0.001 _distn_infrastructure.py:740(_construct_default_doc)\n",
      "        1    0.000    0.000    0.000    0.000 _distn_infrastructure.py:789(_argcheck_rvs)\n",
      "        2    0.000    0.000    0.000    0.000 _distn_infrastructure.py:803(squeeze_left)\n",
      "        1    0.000    0.000    0.000    0.000 _distn_infrastructure.py:819(<listcomp>)\n",
      "        1    0.000    0.000    0.000    0.000 _distn_infrastructure.py:848(<listcomp>)\n",
      "     8385    0.004    0.000    0.004    0.000 _distn_infrastructure.py:863(_argcheck)\n",
      "     8384    0.022    0.000    0.022    0.000 _distn_infrastructure.py:878(_open_support_mask)\n",
      "        1    0.000    0.000   61.516   61.516 _distn_infrastructure.py:881(_rvs)\n",
      "        1    0.000    0.000   61.516   61.516 _distn_infrastructure.py:901(_ppf)\n",
      "        1    0.000    0.000   61.516   61.516 _distn_infrastructure.py:909(rvs)\n",
      "     8384    0.004    0.000    0.049    0.000 _methods.py:37(_any)\n",
      "        2    0.000    0.000    0.000    0.000 _methods.py:40(_all)\n",
      "        1    0.000    0.000    0.000    0.000 _util.py:173(check_random_state)\n",
      "        3    0.000    0.000    0.000    0.000 _util.py:269(getargspec_no_self)\n",
      "        3    0.000    0.000    0.000    0.000 _util.py:292(<listcomp>)\n",
      "        3    0.000    0.000    0.000    0.000 _util.py:296(<listcomp>)\n",
      "        3    0.000    0.000    0.000    0.000 _util.py:301(<listcomp>)\n",
      "        3    0.000    0.000    0.000    0.000 _util.py:306(<listcomp>)\n",
      " 11552940    4.233    0.000    4.233    0.000 _weakrefset.py:70(__contains__)\n",
      "  5776470    5.623    0.000    9.856    0.000 abc.py:178(__instancecheck__)\n",
      "        2    0.000    0.000    0.000    0.000 doccer.py:12(docformat)\n",
      "        2    0.000    0.000    0.000    0.000 doccer.py:128(indentcount_lines)\n",
      "    16768    0.019    0.000    0.059    0.000 fromnumeric.py:1364(ravel)\n",
      "     8384    0.006    0.000    0.021    0.000 fromnumeric.py:1471(nonzero)\n",
      "     8384    0.004    0.000    0.004    0.000 fromnumeric.py:1549(shape)\n",
      "     8384    0.018    0.000    0.093    0.000 fromnumeric.py:1866(any)\n",
      "        2    0.000    0.000    0.000    0.000 fromnumeric.py:1953(all)\n",
      "    16768    0.011    0.000    0.041    0.000 fromnumeric.py:55(_wrapfunc)\n",
      "     8384    0.010    0.000    0.036    0.000 fromnumeric.py:70(take)\n",
      "  1925490   12.544    0.000   37.544    0.000 function_base.py:1219(piecewise)\n",
      "     8384    0.023    0.000    0.139    0.000 function_base.py:2120(extract)\n",
      "    25152    0.019    0.000    0.083    0.000 function_base.py:2171(place)\n",
      "        4    0.000    0.000    0.000    0.000 function_base.py:2516(__init__)\n",
      "        1    0.000    0.000   61.516   61.516 function_base.py:2548(__call__)\n",
      "        1    0.000    0.000    0.000    0.000 function_base.py:2578(_get_ufunc_and_otypes)\n",
      "        1    0.001    0.001   61.516   61.516 function_base.py:2639(_vectorize_call)\n",
      "        1    0.000    0.000    0.000    0.000 function_base.py:2649(<listcomp>)\n",
      "        6    0.000    0.000    0.000    0.000 inspect.py:158(isfunction)\n",
      "        3    0.000    0.000    0.000    0.000 inspect.py:1750(_signature_bound_method)\n",
      "        3    0.000    0.000    0.000    0.000 inspect.py:2065(_signature_from_function)\n",
      "      6/3    0.000    0.000    0.000    0.000 inspect.py:2146(_signature_from_callable)\n",
      "        7    0.000    0.000    0.000    0.000 inspect.py:2399(__init__)\n",
      "       15    0.000    0.000    0.000    0.000 inspect.py:2448(name)\n",
      "        4    0.000    0.000    0.000    0.000 inspect.py:2452(default)\n",
      "       26    0.000    0.000    0.000    0.000 inspect.py:2460(kind)\n",
      "        6    0.000    0.000    0.000    0.000 inspect.py:2678(__init__)\n",
      "       10    0.000    0.000    0.000    0.000 inspect.py:2723(<genexpr>)\n",
      "        3    0.000    0.000    0.000    0.000 inspect.py:2747(from_callable)\n",
      "       15    0.000    0.000    0.000    0.000 inspect.py:2753(parameters)\n",
      "        3    0.000    0.000    0.000    0.000 inspect.py:2761(replace)\n",
      "        3    0.000    0.000    0.000    0.000 inspect.py:2999(signature)\n",
      "        3    0.000    0.000    0.000    0.000 inspect.py:458(unwrap)\n",
      "        3    0.000    0.000    0.000    0.000 inspect.py:478(_is_wrapper)\n",
      "     1000    0.000    0.000    0.000    0.000 linalg.py:111(isComplexType)\n",
      "     1000    0.003    0.000    0.006    0.000 linalg.py:2022(norm)\n",
      "        1    0.000    0.000    0.003    0.003 module.py:242(targetFront)\n",
      "        1    0.000    0.000   61.517   61.517 mymath.py:80(genCustomRands)\n",
      "        1    0.000    0.000    0.001    0.001 mymath.py:88(getDistribution)\n",
      "        1    0.000    0.000    0.000    0.000 mymath.py:92(rv)\n",
      "     8384    0.008    0.000   60.428    0.007 mymath.py:96(_cdf)\n",
      "  1925490    2.116    0.000    2.611    0.000 numeric.py:2160(isscalar)\n",
      "    34536    0.011    0.000    0.059    0.000 numeric.py:463(asarray)\n",
      "  1959029    0.615    0.000    1.311    0.000 numeric.py:534(asanyarray)\n",
      "     8384    0.010    0.000    0.010    0.000 numerictypes.py:1015(<listcomp>)\n",
      "     8384    0.002    0.000    0.002    0.000 numerictypes.py:1016(<listcomp>)\n",
      "    16768    0.131    0.000    0.172    0.000 numerictypes.py:942(_can_coerce_all)\n",
      "   117376    0.028    0.000    0.028    0.000 numerictypes.py:951(<listcomp>)\n",
      "     8384    0.045    0.000    0.228    0.000 numerictypes.py:964(find_common_type)\n",
      "     8384    0.031    0.000   60.401    0.007 quadpack.py:370(_quad)\n",
      "     8384    0.016    0.000   60.419    0.007 quadpack.py:44(quad)\n",
      "     1000    0.005    0.000    0.012    0.000 ray.py:16(__init__)\n",
      "        1    0.002    0.002    0.002    0.002 segmentp.py:253(targetFront)\n",
      "     8385    0.022    0.000    0.057    0.000 shape_base.py:9(atleast_1d)\n",
      "        1    0.000    0.000    0.002    0.002 shell.py:75(targetFront)\n",
      "  1925490    3.481    0.000   58.454    0.000 source.py:110(<lambda>)\n",
      "        1    0.005    0.005   61.548   61.548 source.py:144(generateRays)\n",
      "        1    0.001    0.001    0.004    0.004 source.py:159(<listcomp>)\n",
      "        1    0.000    0.000    0.001    0.001 source.py:160(<listcomp>)\n",
      "        1    0.001    0.001    0.012    0.012 source.py:170(<listcomp>)\n",
      "        1    0.000    0.000    0.000    0.000 stride_tricks.py:177(_broadcast_shape)\n",
      "        1    0.000    0.000    0.000    0.000 stride_tricks.py:196(broadcast_arrays)\n",
      "        1    0.000    0.000    0.000    0.000 stride_tricks.py:248(<listcomp>)\n",
      "        3    0.000    0.000    0.000    0.000 stride_tricks.py:252(<genexpr>)\n",
      "     1000    0.003    0.000   46.649    0.047 zeros.py:332(brentq)\n",
      "     1000    0.000    0.000    0.000    0.000 zeros.py:53(results_c)\n",
      "        3    0.000    0.000    0.000    0.000 {built-in method __new__ of type object at 0x10a9064e0}\n",
      "        1    0.000    0.000    0.000    0.000 {built-in method builtins.__build_class__}\n",
      "        2    0.000    0.000    0.000    0.000 {built-in method builtins.all}\n",
      "        6    0.000    0.000    0.000    0.000 {built-in method builtins.callable}\n",
      "      2/1    0.000    0.000   61.548   61.548 {built-in method builtins.exec}\n",
      "    16768    0.005    0.000    0.005    0.000 {built-in method builtins.getattr}\n",
      "        4    0.000    0.000    0.000    0.000 {built-in method builtins.hasattr}\n",
      "        3    0.000    0.000    0.000    0.000 {built-in method builtins.id}\n",
      " 11612654    4.496    0.000   14.352    0.000 {built-in method builtins.isinstance}\n",
      "     2000    0.000    0.000    0.000    0.000 {built-in method builtins.issubclass}\n",
      "  4002060    0.596    0.000    0.596    0.000 {built-in method builtins.len}\n",
      "       78    0.000    0.000    0.000    0.000 {built-in method builtins.min}\n",
      "        3    0.000    0.000    0.000    0.000 {built-in method builtins.setattr}\n",
      "     1000    0.000    0.000    0.000    0.000 {built-in method math.cos}\n",
      "     1000    0.000    0.000    0.000    0.000 {built-in method math.sin}\n",
      "     1000    0.000    0.000    0.000    0.000 {built-in method math.sqrt}\n",
      "    25152    0.059    0.000    0.059    0.000 {built-in method numpy.core.multiarray._insert}\n",
      "  7774039    9.532    0.000    9.532    0.000 {built-in method numpy.core.multiarray.array}\n",
      "     1000    0.001    0.000    0.001    0.000 {built-in method numpy.core.multiarray.dot}\n",
      "  1933875    1.281    0.000    1.281    0.000 {built-in method numpy.core.multiarray.zeros}\n",
      "        1    0.000    0.000    0.000    0.000 {built-in method numpy.core.umath.frompyfunc}\n",
      "     8384    1.916    0.000   60.370    0.007 {built-in method scipy.integrate._quadpack._qagse}\n",
      "     1000    0.010    0.000   46.644    0.047 {built-in method scipy.optimize._zeros._brentq}\n",
      "        2    0.000    0.000    0.000    0.000 {method 'all' of 'numpy.ndarray' objects}\n",
      "     8384    0.009    0.000    0.058    0.000 {method 'any' of 'numpy.ndarray' objects}\n",
      "     9878    0.002    0.000    0.002    0.000 {method 'append' of 'list' objects}\n",
      "        1    0.000    0.000    0.000    0.000 {method 'copy' of 'dict' objects}\n",
      "        1    0.000    0.000    0.000    0.000 {method 'disable' of '_lsprof.Profiler' objects}\n",
      "       64    0.000    0.000    0.000    0.000 {method 'expandtabs' of 'str' objects}\n",
      "       11    0.000    0.000    0.000    0.000 {method 'get' of 'dict' objects}\n",
      "        7    0.000    0.000    0.000    0.000 {method 'isidentifier' of 'str' objects}\n",
      "        2    0.000    0.000    0.000    0.000 {method 'items' of 'dict' objects}\n",
      "       56    0.000    0.000    0.000    0.000 {method 'join' of 'str' objects}\n",
      "       98    0.000    0.000    0.000    0.000 {method 'lstrip' of 'str' objects}\n",
      "     8384    0.007    0.000    0.007    0.000 {method 'nonzero' of 'numpy.ndarray' objects}\n",
      "        3    0.000    0.000    0.000    0.000 {method 'pop' of 'dict' objects}\n",
      "     2000    0.003    0.000    0.003    0.000 {method 'random' of '_random.Random' objects}\n",
      "        1    0.000    0.000    0.000    0.000 {method 'random_sample' of 'mtrand.RandomState' objects}\n",
      "    17768    0.016    0.000    0.016    0.000 {method 'ravel' of 'numpy.ndarray' objects}\n",
      "     8386    0.045    0.000    0.045    0.000 {method 'reduce' of 'numpy.ufunc' objects}\n",
      "        6    0.000    0.000    0.000    0.000 {method 'replace' of 'str' objects}\n",
      "     8385    0.025    0.000    0.025    0.000 {method 'reshape' of 'numpy.ndarray' objects}\n",
      "       64    0.000    0.000    0.000    0.000 {method 'splitlines' of 'str' objects}\n",
      "        1    0.000    0.000    0.000    0.000 {method 'startswith' of 'str' objects}\n",
      "     8384    0.019    0.000    0.019    0.000 {method 'take' of 'numpy.ndarray' objects}\n",
      "       15    0.000    0.000    0.000    0.000 {method 'values' of 'mappingproxy' objects}\n",
      "\n",
      "\n"
     ]
    }
   ],
   "source": [
    "cProfile.run('rays = source.generateRays(module.targetFront, nrays)')"
   ]
  },
  {
   "cell_type": "code",
   "execution_count": 3,
   "metadata": {
    "scrolled": true
   },
   "outputs": [
    {
     "name": "stdout",
     "output_type": "stream",
     "text": [
      "         1578485 function calls in 2.026 seconds\n",
      "\n",
      "   Ordered by: standard name\n",
      "\n",
      "   ncalls  tottime  percall  cumtime  percall filename:lineno(function)\n",
      "        1    0.000    0.000    2.026    2.026 <string>:1(<module>)\n",
      "     1137    0.009    0.000    0.020    0.000 _fitpack_impl.py:990(bisplev)\n",
      "     1000    0.003    0.000    0.020    0.000 circle.py:44(inRange)\n",
      "    13942    0.004    0.000    0.004    0.000 fromnumeric.py:1549(shape)\n",
      "     3137    0.002    0.000    0.007    0.000 fromnumeric.py:504(transpose)\n",
      "     3137    0.002    0.000    0.005    0.000 fromnumeric.py:55(_wrapfunc)\n",
      "     2274    0.003    0.000    0.011    0.000 fromnumeric.py:709(sort)\n",
      "     6971    0.008    0.000    0.010    0.000 getlimits.py:96(__new__)\n",
      "     1137    0.009    0.000    0.067    0.000 interpolate.py:236(__call__)\n",
      "     1000    0.001    0.000    0.001    0.000 linalg.py:101(get_linalg_error_extobj)\n",
      "     2000    0.002    0.000    0.004    0.000 linalg.py:106(_makearray)\n",
      "    14934    0.007    0.000    0.010    0.000 linalg.py:111(isComplexType)\n",
      "     2000    0.001    0.000    0.001    0.000 linalg.py:124(_realType)\n",
      "     1000    0.004    0.000    0.007    0.000 linalg.py:139(_commonType)\n",
      "     1000    0.001    0.000    0.001    0.000 linalg.py:198(_assertRankAtLeast2)\n",
      "    11934    0.052    0.000    0.111    0.000 linalg.py:2022(norm)\n",
      "     1000    0.002    0.000    0.003    0.000 linalg.py:209(_assertNdSquareness)\n",
      "     1000    0.021    0.000    0.042    0.000 linalg.py:296(solve)\n",
      "    34855    0.021    0.000    0.026    0.000 minpack.py:149(<genexpr>)\n",
      "     6971    0.080    0.000    1.446    0.000 minpack.py:167(_root_hybr)\n",
      "     6971    0.030    0.000    0.218    0.000 minpack.py:24(_check_func)\n",
      "     6971    0.057    0.000    1.530    0.000 minpack.py:48(fsolve)\n",
      "        1    0.000    0.000    0.000    0.000 module.py:109(<listcomp>)\n",
      "     1000    0.001    0.000    0.001    0.000 module.py:151(<listcomp>)\n",
      "      223    0.000    0.000    0.000    0.000 module.py:201(<listcomp>)\n",
      "        1    0.000    0.000    0.000    0.000 module.py:85(getSurfaces)\n",
      "        1    0.033    0.033    2.026    2.026 module.py:96(passRays)\n",
      "     1284    0.012    0.000    0.109    0.000 mymath.py:27(reflect)\n",
      "     1284    0.005    0.000    0.024    0.000 mymath.py:42(angle_of_incidence)\n",
      "     3852    0.005    0.000    0.005    0.000 numeric.py:1490(rollaxis)\n",
      "     1284    0.039    0.000    0.050    0.000 numeric.py:1640(cross)\n",
      "    23473    0.009    0.000    0.040    0.000 numeric.py:463(asarray)\n",
      "    14930    0.006    0.000    0.035    0.000 numeric.py:534(asanyarray)\n",
      "     6971    0.004    0.000    0.005    0.000 numerictypes.py:660(issubclass_)\n",
      "     6971    0.010    0.000    0.017    0.000 numerictypes.py:728(issubdtype)\n",
      "     6971    0.002    0.000    0.002    0.000 optimize.py:137(_check_unknown_options)\n",
      "     1000    0.006    0.000    0.006    0.000 plane.py:49(getPoint)\n",
      "     1000    0.008    0.000    0.077    0.000 plane.py:87(rayIntersect)\n",
      "     6938    0.003    0.000    0.003    0.000 ray.py:52(inRange)\n",
      "    77804    0.051    0.000    0.051    0.000 ray.py:61(x)\n",
      "    77804    0.050    0.000    0.050    0.000 ray.py:67(y)\n",
      "    77804    0.050    0.000    0.050    0.000 ray.py:73(z)\n",
      "     5241    0.011    0.000    0.036    0.000 ray.py:79(getPoint)\n",
      "     1000    0.005    0.000    0.013    0.000 ray.py:94(moveToZ)\n",
      "     2688    0.026    0.000    0.722    0.000 segmenth.py:129(rayIntersect)\n",
      "    30166    0.125    0.000    0.444    0.000 segmenth.py:138(system)\n",
      "    62028    0.163    0.000    0.174    0.000 segmenth.py:190(rh)\n",
      "    30166    0.038    0.000    0.135    0.000 segmenth.py:198(x)\n",
      "    30166    0.032    0.000    0.115    0.000 segmenth.py:204(y)\n",
      "    30166    0.011    0.000    0.011    0.000 segmenth.py:210(z)\n",
      "      424    0.002    0.000    0.006    0.000 segmenth.py:216(du)\n",
      "      424    0.001    0.000    0.004    0.000 segmenth.py:225(dv)\n",
      "     2688    0.002    0.000    0.002    0.000 segmenth.py:76(inRange)\n",
      "     2688    0.031    0.000    0.937    0.000 segmentp.py:126(rayIntersect)\n",
      "    42397    0.170    0.000    0.572    0.000 segmentp.py:135(system)\n",
      "    88234    0.189    0.000    0.216    0.000 segmentp.py:187(rp)\n",
      "    42397    0.044    0.000    0.162    0.000 segmentp.py:195(x)\n",
      "    42397    0.040    0.000    0.143    0.000 segmentp.py:201(y)\n",
      "    42397    0.016    0.000    0.016    0.000 segmentp.py:207(z)\n",
      "      860    0.002    0.000    0.010    0.000 segmentp.py:213(du)\n",
      "      860    0.002    0.000    0.007    0.000 segmentp.py:222(dv)\n",
      "     2688    0.003    0.000    0.003    0.000 segmentp.py:75(inRange)\n",
      "     1137    0.002    0.000    0.006    0.000 shape_base.py:61(atleast_2d)\n",
      "    11519    0.029    0.000    0.071    0.000 shape_base.py:9(atleast_1d)\n",
      "        5    0.000    0.000    0.000    0.000 shell.py:47(getSurfaces)\n",
      "     1284    0.008    0.000    0.098    0.000 surface.py:78(getNormal)\n",
      "   150262    0.025    0.000    0.025    0.000 {built-in method builtins.abs}\n",
      "        1    0.000    0.000    2.026    2.026 {built-in method builtins.exec}\n",
      "     5137    0.001    0.000    0.001    0.000 {built-in method builtins.getattr}\n",
      "     6971    0.002    0.000    0.002    0.000 {built-in method builtins.isinstance}\n",
      "    42810    0.010    0.000    0.010    0.000 {built-in method builtins.issubclass}\n",
      "    43812    0.009    0.000    0.009    0.000 {built-in method builtins.len}\n",
      "     1000    0.001    0.000    0.001    0.000 {built-in method builtins.max}\n",
      "     1000    0.000    0.000    0.000    0.000 {built-in method builtins.min}\n",
      "     1284    0.001    0.000    0.001    0.000 {built-in method math.acos}\n",
      "     6971    0.003    0.000    0.003    0.000 {built-in method math.atan2}\n",
      "    75131    0.014    0.000    0.014    0.000 {built-in method math.cos}\n",
      "    75131    0.013    0.000    0.013    0.000 {built-in method math.sin}\n",
      "    88234    0.013    0.000    0.013    0.000 {built-in method math.sqrt}\n",
      "    49633    0.085    0.000    0.085    0.000 {built-in method numpy.core.multiarray.array}\n",
      "    13562    0.026    0.000    0.026    0.000 {built-in method numpy.core.multiarray.dot}\n",
      "     1284    0.002    0.000    0.002    0.000 {built-in method numpy.core.multiarray.empty}\n",
      "     1284    0.001    0.000    0.001    0.000 {built-in method numpy.core.multiarray.promote_types}\n",
      "     1137    0.004    0.000    0.004    0.000 {built-in method scipy.interpolate._fitpack._bispev}\n",
      "     6971    0.192    0.000    1.090    0.000 {built-in method scipy.optimize._minpack._hybrd}\n",
      "     1000    0.000    0.000    0.000    0.000 {method '__array_prepare__' of 'numpy.ndarray' objects}\n",
      "    13940    0.003    0.000    0.003    0.000 {method 'append' of 'list' objects}\n",
      "     1000    0.002    0.000    0.002    0.000 {method 'astype' of 'numpy.ndarray' objects}\n",
      "     2274    0.003    0.000    0.003    0.000 {method 'copy' of 'numpy.ndarray' objects}\n",
      "        1    0.000    0.000    0.000    0.000 {method 'disable' of '_lsprof.Profiler' objects}\n",
      "        4    0.000    0.000    0.000    0.000 {method 'extend' of 'list' objects}\n",
      "     6971    0.009    0.000    0.009    0.000 {method 'flatten' of 'numpy.ndarray' objects}\n",
      "    36855    0.008    0.000    0.008    0.000 {method 'get' of 'dict' objects}\n",
      "     6971    0.003    0.000    0.003    0.000 {method 'pop' of 'dict' objects}\n",
      "     1137    0.006    0.000    0.006    0.000 {method 'random_sample' of 'mtrand.RandomState' objects}\n",
      "    11934    0.014    0.000    0.014    0.000 {method 'ravel' of 'numpy.ndarray' objects}\n",
      "        2    0.000    0.000    0.000    0.000 {method 'remove' of 'list' objects}\n",
      "     3411    0.005    0.000    0.005    0.000 {method 'reshape' of 'numpy.ndarray' objects}\n",
      "     2274    0.003    0.000    0.003    0.000 {method 'sort' of 'numpy.ndarray' objects}\n",
      "     3137    0.001    0.000    0.001    0.000 {method 'transpose' of 'numpy.ndarray' objects}\n",
      "     6971    0.005    0.000    0.005    0.000 {method 'update' of 'dict' objects}\n",
      "\n",
      "\n"
     ]
    }
   ],
   "source": [
    "cProfile.run('module.passRays(rays, robust=True)')"
   ]
  },
  {
   "cell_type": "code",
   "execution_count": 6,
   "metadata": {
    "collapsed": true
   },
   "outputs": [],
   "source": [
    "detector.catchRays(rays)"
   ]
  },
  {
   "cell_type": "code",
   "execution_count": 7,
   "metadata": {},
   "outputs": [
    {
     "data": {
      "text/plain": [
       "60"
      ]
     },
     "execution_count": 7,
     "metadata": {},
     "output_type": "execute_result"
    }
   ],
   "source": [
    "len(detector.rays)"
   ]
  },
  {
   "cell_type": "code",
   "execution_count": 8,
   "metadata": {},
   "outputs": [
    {
     "data": {
      "image/png": "[encoded data removed]",
      "text/plain": [
       "<matplotlib.figure.Figure at 0x1325bc7f0>"
      ]
     },
     "metadata": {},
     "output_type": "display_data"
    }
   ],
   "source": [
    "plt.figure()\n",
    "plt.hist([ray.energy for ray in detector.rays], normed=True, label='rays on detector',color='r')\n",
    "plt.xlabel('Energy [keV]')\n",
    "plt.title('Histogram caught rays on detector')\n",
    "plt.legend()\n",
    "plt.show()"
   ]
  },
  {
   "cell_type": "code",
   "execution_count": null,
   "metadata": {
    "collapsed": true
   },
   "outputs": [],
   "source": []
  },
  {
   "cell_type": "code",
   "execution_count": null,
   "metadata": {
    "collapsed": true
   },
   "outputs": [],
   "source": []
  },
  {
   "cell_type": "markdown",
   "metadata": {},
   "source": [
    "## No energy response"
   ]
  },
  {
   "cell_type": "code",
   "execution_count": 10,
   "metadata": {
    "collapsed": true
   },
   "outputs": [],
   "source": [
    "from foxsisim.module import Module\n",
    "from foxsisim.detector import Detector\n",
    "from foxsisim.source import Source\n",
    "from foxsisim.plotting import scatterHist\n",
    "from foxsisim.plotting import plot\n",
    "from foxsisim.util import save_rays\n",
    "import matplotlib.pyplot as plt\n",
    "from astropy.io import fits\n",
    "import numpy as np"
   ]
  },
  {
   "cell_type": "code",
   "execution_count": 12,
   "metadata": {
    "collapsed": true
   },
   "outputs": [],
   "source": [
    "module = Module(radii = [5.151,4.9,4.659,4.429,4.21,4.0,3.799], #7Shells\n",
    "    #module = Module(radii = [5.151,4.9,4.659,4.429,4.21,4.0,3.799,3.59,3.38,3.17], #10Shells\n",
    "                    seglen=30.0,\n",
    "                    base=[0,0,0],\n",
    "                    focal=200,\n",
    "                    angles=None,\n",
    "                    conic=False)\n",
    "\n",
    "detector = Detector(width=10, #27.6 x 27.6 mm values taken from Steven\n",
    "                    height=10,\n",
    "                    normal = [0,0,1],\n",
    "                    center = [0,0,230],\n",
    "                    reso = [2048,2048]) # Resolution taken from Steven\n",
    "\n",
    "    #source_distance = -2187.5\n",
    "source_distance = -1.04e4 #Source distance according to Steve's paper \n",
    "offaxis_angle_arcmin = 14.0\n",
    "source = Source(type='point',\n",
    "                center=[ source_distance * np.sin(np.deg2rad(offaxis_angle_arcmin/60.0)) , 0.0 , source_distance ],\n",
    "                color=[1,1,1])\n",
    "    \n",
    "photons=100"
   ]
  },
  {
   "cell_type": "code",
   "execution_count": 13,
   "metadata": {},
   "outputs": [
    {
     "name": "stdout",
     "output_type": "stream",
     "text": [
      "         1913 function calls in 0.005 seconds\n",
      "\n",
      "   Ordered by: standard name\n",
      "\n",
      "   ncalls  tottime  percall  cumtime  percall filename:lineno(function)\n",
      "        1    0.000    0.000    0.004    0.004 <string>:1(<module>)\n",
      "      100    0.000    0.000    0.000    0.000 linalg.py:111(isComplexType)\n",
      "      100    0.000    0.000    0.001    0.000 linalg.py:2022(norm)\n",
      "        1    0.000    0.000    0.000    0.000 module.py:242(targetFront)\n",
      "      100    0.000    0.000    0.000    0.000 numeric.py:463(asarray)\n",
      "      100    0.000    0.000    0.001    0.000 ray.py:16(__init__)\n",
      "        1    0.000    0.000    0.000    0.000 segmentp.py:253(targetFront)\n",
      "        1    0.000    0.000    0.000    0.000 shell.py:75(targetFront)\n",
      "        1    0.001    0.001    0.004    0.004 source.py:144(generateRays)\n",
      "        1    0.000    0.000    0.000    0.000 source.py:159(<listcomp>)\n",
      "        1    0.000    0.000    0.000    0.000 source.py:160(<listcomp>)\n",
      "        1    0.000    0.000    0.001    0.001 source.py:170(<listcomp>)\n",
      "        1    0.000    0.000    0.005    0.005 {built-in method builtins.exec}\n",
      "      200    0.000    0.000    0.000    0.000 {built-in method builtins.issubclass}\n",
      "        2    0.000    0.000    0.000    0.000 {built-in method builtins.len}\n",
      "      100    0.000    0.000    0.000    0.000 {built-in method math.cos}\n",
      "      100    0.000    0.000    0.000    0.000 {built-in method math.sin}\n",
      "      100    0.000    0.000    0.000    0.000 {built-in method math.sqrt}\n",
      "      500    0.001    0.000    0.001    0.000 {built-in method numpy.core.multiarray.array}\n",
      "      100    0.000    0.000    0.000    0.000 {built-in method numpy.core.multiarray.dot}\n",
      "        1    0.000    0.000    0.000    0.000 {built-in method numpy.core.multiarray.zeros}\n",
      "      100    0.000    0.000    0.000    0.000 {method 'append' of 'list' objects}\n",
      "        1    0.000    0.000    0.000    0.000 {method 'disable' of '_lsprof.Profiler' objects}\n",
      "      200    0.000    0.000    0.000    0.000 {method 'random' of '_random.Random' objects}\n",
      "      100    0.000    0.000    0.000    0.000 {method 'ravel' of 'numpy.ndarray' objects}\n",
      "\n",
      "\n"
     ]
    }
   ],
   "source": [
    "cProfile.run('rays = source.generateRays(module.targetFront, nrays)')"
   ]
  },
  {
   "cell_type": "code",
   "execution_count": 14,
   "metadata": {
    "collapsed": true
   },
   "outputs": [
    {
     "name": "stdout",
     "output_type": "stream",
     "text": [
      "         632541 function calls in 0.957 seconds\n",
      "\n",
      "   Ordered by: standard name\n",
      "\n",
      "   ncalls  tottime  percall  cumtime  percall filename:lineno(function)\n",
      "        1    0.000    0.000    0.957    0.957 <string>:1(<module>)\n",
      "      100    0.000    0.000    0.002    0.000 circle.py:44(inRange)\n",
      "     5234    0.002    0.000    0.002    0.000 fromnumeric.py:1549(shape)\n",
      "      200    0.000    0.000    0.001    0.000 fromnumeric.py:504(transpose)\n",
      "      200    0.000    0.000    0.000    0.000 fromnumeric.py:55(_wrapfunc)\n",
      "     2617    0.004    0.000    0.005    0.000 getlimits.py:96(__new__)\n",
      "      100    0.000    0.000    0.000    0.000 linalg.py:101(get_linalg_error_extobj)\n",
      "      200    0.000    0.000    0.000    0.000 linalg.py:106(_makearray)\n",
      "     3365    0.001    0.000    0.002    0.000 linalg.py:111(isComplexType)\n",
      "      200    0.000    0.000    0.000    0.000 linalg.py:124(_realType)\n",
      "      100    0.000    0.000    0.001    0.000 linalg.py:139(_commonType)\n",
      "      100    0.000    0.000    0.000    0.000 linalg.py:198(_assertRankAtLeast2)\n",
      "     3065    0.017    0.000    0.037    0.000 linalg.py:2022(norm)\n",
      "      100    0.000    0.000    0.000    0.000 linalg.py:209(_assertNdSquareness)\n",
      "      100    0.003    0.000    0.005    0.000 linalg.py:296(solve)\n",
      "    13085    0.008    0.000    0.011    0.000 minpack.py:149(<genexpr>)\n",
      "     2617    0.036    0.000    0.789    0.000 minpack.py:167(_root_hybr)\n",
      "     2617    0.019    0.000    0.105    0.000 minpack.py:24(_check_func)\n",
      "     2617    0.026    0.000    0.827    0.000 minpack.py:48(fsolve)\n",
      "        1    0.000    0.000    0.000    0.000 module.py:109(<listcomp>)\n",
      "      100    0.000    0.000    0.000    0.000 module.py:151(<listcomp>)\n",
      "      100    0.000    0.000    0.000    0.000 module.py:201(<listcomp>)\n",
      "        1    0.000    0.000    0.000    0.000 module.py:85(getSurfaces)\n",
      "        1    0.012    0.012    0.957    0.957 module.py:96(passRays)\n",
      "      194    0.001    0.000    0.006    0.000 mymath.py:27(reflect)\n",
      "      194    0.001    0.000    0.005    0.000 mymath.py:42(angle_of_incidence)\n",
      "      582    0.001    0.000    0.001    0.000 numeric.py:1490(rollaxis)\n",
      "      194    0.006    0.000    0.008    0.000 numeric.py:1640(cross)\n",
      "     6270    0.003    0.000    0.017    0.000 numeric.py:463(asarray)\n",
      "     2617    0.001    0.000    0.013    0.000 numeric.py:534(asanyarray)\n",
      "     2617    0.001    0.000    0.002    0.000 numerictypes.py:660(issubclass_)\n",
      "     2617    0.005    0.000    0.007    0.000 numerictypes.py:728(issubdtype)\n",
      "     2617    0.001    0.000    0.001    0.000 optimize.py:137(_check_unknown_options)\n",
      "      100    0.001    0.000    0.001    0.000 plane.py:49(getPoint)\n",
      "      100    0.001    0.000    0.010    0.000 plane.py:87(rayIntersect)\n",
      "     2264    0.001    0.000    0.001    0.000 ray.py:52(inRange)\n",
      "    36166    0.026    0.000    0.026    0.000 ray.py:61(x)\n",
      "    36166    0.024    0.000    0.024    0.000 ray.py:67(y)\n",
      "    36166    0.022    0.000    0.022    0.000 ray.py:73(z)\n",
      "     1423    0.004    0.000    0.016    0.000 ray.py:79(getPoint)\n",
      "      100    0.000    0.000    0.001    0.000 ray.py:94(moveToZ)\n",
      "      938    0.016    0.000    0.430    0.000 segmenth.py:129(rayIntersect)\n",
      "    16155    0.072    0.000    0.273    0.000 segmenth.py:138(system)\n",
      "    32646    0.108    0.000    0.114    0.000 segmenth.py:190(rh)\n",
      "    16155    0.020    0.000    0.087    0.000 segmenth.py:198(x)\n",
      "    16155    0.020    0.000    0.074    0.000 segmenth.py:204(y)\n",
      "    16155    0.010    0.000    0.010    0.000 segmenth.py:210(z)\n",
      "       84    0.000    0.000    0.001    0.000 segmenth.py:216(du)\n",
      "       84    0.000    0.000    0.001    0.000 segmenth.py:225(dv)\n",
      "      929    0.001    0.000    0.001    0.000 segmenth.py:76(inRange)\n",
      "      938    0.017    0.000    0.471    0.001 segmentp.py:126(rayIntersect)\n",
      "    18588    0.083    0.000    0.289    0.000 segmentp.py:135(system)\n",
      "    37616    0.101    0.000    0.116    0.000 segmentp.py:187(rp)\n",
      "    18588    0.020    0.000    0.085    0.000 segmentp.py:195(x)\n",
      "    18588    0.019    0.000    0.077    0.000 segmentp.py:201(y)\n",
      "    18588    0.007    0.000    0.007    0.000 segmentp.py:207(z)\n",
      "      110    0.000    0.000    0.001    0.000 segmentp.py:213(du)\n",
      "      110    0.000    0.000    0.001    0.000 segmentp.py:222(dv)\n",
      "      892    0.001    0.000    0.001    0.000 segmentp.py:75(inRange)\n",
      "     2617    0.008    0.000    0.022    0.000 shape_base.py:9(atleast_1d)\n",
      "       20    0.000    0.000    0.000    0.000 shell.py:47(getSurfaces)\n",
      "      194    0.002    0.000    0.017    0.000 surface.py:78(getNormal)\n",
      "    70262    0.013    0.000    0.013    0.000 {built-in method builtins.abs}\n",
      "        1    0.000    0.000    0.957    0.957 {built-in method builtins.exec}\n",
      "      400    0.000    0.000    0.000    0.000 {built-in method builtins.getattr}\n",
      "     2617    0.001    0.000    0.001    0.000 {built-in method builtins.isinstance}\n",
      "    11864    0.003    0.000    0.003    0.000 {built-in method builtins.issubclass}\n",
      "     8346    0.002    0.000    0.002    0.000 {built-in method builtins.len}\n",
      "      100    0.000    0.000    0.000    0.000 {built-in method builtins.max}\n",
      "      100    0.000    0.000    0.000    0.000 {built-in method builtins.min}\n",
      "      194    0.000    0.000    0.000    0.000 {built-in method math.acos}\n",
      "     2617    0.002    0.000    0.002    0.000 {built-in method math.atan2}\n",
      "    35131    0.009    0.000    0.009    0.000 {built-in method math.cos}\n",
      "    35131    0.007    0.000    0.007    0.000 {built-in method math.sin}\n",
      "    37616    0.009    0.000    0.009    0.000 {built-in method math.sqrt}\n",
      "    10992    0.037    0.000    0.037    0.000 {built-in method numpy.core.multiarray.array}\n",
      "     3378    0.011    0.000    0.011    0.000 {built-in method numpy.core.multiarray.dot}\n",
      "      194    0.000    0.000    0.000    0.000 {built-in method numpy.core.multiarray.empty}\n",
      "      194    0.000    0.000    0.000    0.000 {built-in method numpy.core.multiarray.promote_types}\n",
      "     2617    0.113    0.000    0.620    0.000 {built-in method scipy.optimize._minpack._hybrd}\n",
      "      100    0.000    0.000    0.000    0.000 {method '__array_prepare__' of 'numpy.ndarray' objects}\n",
      "     2811    0.001    0.000    0.001    0.000 {method 'append' of 'list' objects}\n",
      "      100    0.000    0.000    0.000    0.000 {method 'astype' of 'numpy.ndarray' objects}\n",
      "        1    0.000    0.000    0.000    0.000 {method 'disable' of '_lsprof.Profiler' objects}\n",
      "       14    0.000    0.000    0.000    0.000 {method 'extend' of 'list' objects}\n",
      "     2617    0.005    0.000    0.005    0.000 {method 'flatten' of 'numpy.ndarray' objects}\n",
      "    13285    0.003    0.000    0.003    0.000 {method 'get' of 'dict' objects}\n",
      "     2617    0.001    0.000    0.001    0.000 {method 'pop' of 'dict' objects}\n",
      "     3065    0.004    0.000    0.004    0.000 {method 'ravel' of 'numpy.ndarray' objects}\n",
      "        2    0.000    0.000    0.000    0.000 {method 'remove' of 'list' objects}\n",
      "      200    0.000    0.000    0.000    0.000 {method 'transpose' of 'numpy.ndarray' objects}\n",
      "     2617    0.002    0.000    0.002    0.000 {method 'update' of 'dict' objects}\n",
      "\n",
      "\n"
     ]
    }
   ],
   "source": [
    "cProfile.run('module.passRays(rays, robust=True)')"
   ]
  },
  {
   "cell_type": "code",
   "execution_count": null,
   "metadata": {
    "collapsed": true
   },
   "outputs": [],
   "source": []
  },
  {
   "cell_type": "code",
   "execution_count": null,
   "metadata": {
    "collapsed": true
   },
   "outputs": [],
   "source": []
  },
  {
   "cell_type": "code",
   "execution_count": null,
   "metadata": {
    "collapsed": true
   },
   "outputs": [],
   "source": []
  },
  {
   "cell_type": "code",
   "execution_count": null,
   "metadata": {
    "collapsed": true
   },
   "outputs": [],
   "source": []
  },
  {
   "cell_type": "code",
   "execution_count": null,
   "metadata": {
    "collapsed": true
   },
   "outputs": [],
   "source": []
  }
 ],
 "metadata": {
  "kernelspec": {
   "display_name": "Python 3",
   "language": "python",
   "name": "python3"
  },
  "language_info": {
   "codemirror_mode": {
    "name": "ipython",
    "version": 3
   },
   "file_extension": ".py",
   "mimetype": "text/x-python",
   "name": "python",
   "nbconvert_exporter": "python",
   "pygments_lexer": "ipython3",
   "version": "3.6.1"
  }
 },
 "nbformat": 4,
 "nbformat_minor": 2
}
