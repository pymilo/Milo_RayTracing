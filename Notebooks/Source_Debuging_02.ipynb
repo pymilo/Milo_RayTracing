{
 "cells": [
  {
   "cell_type": "markdown",
   "metadata": {},
   "source": [
    "# Reading off-axis rays from CSV files to plot Hyp and Par hits on the module shells"
   ]
  },
  {
   "cell_type": "markdown",
   "metadata": {},
   "source": [
    "### @Milo, Dec 2017"
   ]
  },
  {
   "cell_type": "markdown",
   "metadata": {},
   "source": [
    "Reading 30arcmin off-axis rays"
   ]
  },
  {
   "cell_type": "markdown",
   "metadata": {},
   "source": [
    "Defining customed function to read the rays:"
   ]
  },
  {
   "cell_type": "code",
   "execution_count": 5,
   "metadata": {},
   "outputs": [
    {
     "ename": "NameError",
     "evalue": "name 'load_rays' is not defined",
     "output_type": "error",
     "traceback": [
      "\u001b[0;31m---------------------------------------------------------------------------\u001b[0m",
      "\u001b[0;31mNameError\u001b[0m                                 Traceback (most recent call last)",
      "\u001b[0;32m<ipython-input-5-8823b42dabc7>\u001b[0m in \u001b[0;36m<module>\u001b[0;34m()\u001b[0m\n\u001b[1;32m      1\u001b[0m \u001b[0;31m#Rrays0 = load_rays('/Users/Kamilobu/Desktop/MakeRays/30arcmin/run00.csv')\u001b[0m\u001b[0;34m\u001b[0m\u001b[0;34m\u001b[0m\u001b[0m\n\u001b[0;32m----> 2\u001b[0;31m \u001b[0mRrays\u001b[0m \u001b[0;34m=\u001b[0m \u001b[0mload_rays\u001b[0m\u001b[0;34m(\u001b[0m\u001b[0;34m'/Users/Kamilobu/Desktop/MakeRays/30arcmin/run01.csv'\u001b[0m\u001b[0;34m)\u001b[0m\u001b[0;34m\u001b[0m\u001b[0m\n\u001b[0m\u001b[1;32m      3\u001b[0m \u001b[0;31m#Rrays = Rrays0 + Rrays1\u001b[0m\u001b[0;34m\u001b[0m\u001b[0;34m\u001b[0m\u001b[0m\n\u001b[1;32m      4\u001b[0m \u001b[0mprint\u001b[0m\u001b[0;34m(\u001b[0m\u001b[0;34m'Number of rays0 : {:d}'\u001b[0m\u001b[0;34m.\u001b[0m\u001b[0mformat\u001b[0m\u001b[0;34m(\u001b[0m\u001b[0mlen\u001b[0m\u001b[0;34m(\u001b[0m\u001b[0mRrays\u001b[0m\u001b[0;34m)\u001b[0m\u001b[0;34m)\u001b[0m\u001b[0;34m)\u001b[0m\u001b[0;34m\u001b[0m\u001b[0m\n",
      "\u001b[0;31mNameError\u001b[0m: name 'load_rays' is not defined"
     ]
    }
   ],
   "source": [
    "#Rrays0 = load_rays('/Users/Kamilobu/Desktop/MakeRays/30arcmin/run00.csv')\n",
    "Rrays = load_rays('/Users/Kamilobu/Desktop/MakeRays/30arcmin/run01.csv')\n",
    "#Rrays = Rrays0 + Rrays1\n",
    "print('Number of rays0 : {:d}'.format(len(Rrays)))"
   ]
  },
  {
   "cell_type": "code",
   "execution_count": 6,
   "metadata": {},
   "outputs": [
    {
     "ename": "NameError",
     "evalue": "name 'Rrays' is not defined",
     "output_type": "error",
     "traceback": [
      "\u001b[0;31m---------------------------------------------------------------------------\u001b[0m",
      "\u001b[0;31mNameError\u001b[0m                                 Traceback (most recent call last)",
      "\u001b[0;32m<ipython-input-6-90c248a90745>\u001b[0m in \u001b[0;36m<module>\u001b[0;34m()\u001b[0m\n\u001b[0;32m----> 1\u001b[0;31m \u001b[0mprays\u001b[0m \u001b[0;34m=\u001b[0m \u001b[0;34m[\u001b[0m\u001b[0mray\u001b[0m\u001b[0;34m.\u001b[0m\u001b[0mpos\u001b[0m \u001b[0;32mfor\u001b[0m \u001b[0mray\u001b[0m \u001b[0;32min\u001b[0m \u001b[0mRrays\u001b[0m\u001b[0;34m]\u001b[0m\u001b[0;34m\u001b[0m\u001b[0m\n\u001b[0m\u001b[1;32m      2\u001b[0m \u001b[0morays\u001b[0m \u001b[0;34m=\u001b[0m \u001b[0;34m[\u001b[0m\u001b[0mray\u001b[0m\u001b[0;34m.\u001b[0m\u001b[0mori\u001b[0m \u001b[0;32mfor\u001b[0m \u001b[0mray\u001b[0m \u001b[0;32min\u001b[0m \u001b[0mRrays\u001b[0m\u001b[0;34m]\u001b[0m\u001b[0;34m\u001b[0m\u001b[0m\n\u001b[1;32m      3\u001b[0m \u001b[0msrays\u001b[0m \u001b[0;34m=\u001b[0m \u001b[0;34m[\u001b[0m\u001b[0mray\u001b[0m\u001b[0;34m.\u001b[0m\u001b[0msrc\u001b[0m \u001b[0;32mfor\u001b[0m \u001b[0mray\u001b[0m \u001b[0;32min\u001b[0m \u001b[0mRrays\u001b[0m\u001b[0;34m]\u001b[0m\u001b[0;34m\u001b[0m\u001b[0m\n\u001b[1;32m      4\u001b[0m \u001b[0mdrays\u001b[0m \u001b[0;34m=\u001b[0m \u001b[0;34m[\u001b[0m\u001b[0mray\u001b[0m\u001b[0;34m.\u001b[0m\u001b[0mdes\u001b[0m \u001b[0;32mfor\u001b[0m \u001b[0mray\u001b[0m \u001b[0;32min\u001b[0m \u001b[0mRrays\u001b[0m\u001b[0;34m]\u001b[0m\u001b[0;34m\u001b[0m\u001b[0m\n\u001b[1;32m      5\u001b[0m \u001b[0mtrays\u001b[0m \u001b[0;34m=\u001b[0m \u001b[0;34m[\u001b[0m\u001b[0mray\u001b[0m\u001b[0;34m.\u001b[0m\u001b[0mtag\u001b[0m \u001b[0;32mfor\u001b[0m \u001b[0mray\u001b[0m \u001b[0;32min\u001b[0m \u001b[0mRrays\u001b[0m\u001b[0;34m]\u001b[0m\u001b[0;34m\u001b[0m\u001b[0m\n",
      "\u001b[0;31mNameError\u001b[0m: name 'Rrays' is not defined"
     ]
    }
   ],
   "source": [
    "prays = [ray.pos for ray in Rrays]\n",
    "orays = [ray.ori for ray in Rrays]\n",
    "srays = [ray.src for ray in Rrays]\n",
    "drays = [ray.des for ray in Rrays]\n",
    "trays = [ray.tag for ray in Rrays]\n",
    "hrays = [ray.hist for ray in Rrays]\n",
    "brays = [ray.bounces for ray in Rrays]\n",
    "deadrays = [ray.dead for ray in Rrays]\n",
    "\n",
    "Hrays = [ray for ray in Rrays if (ray.bounces ==1 and ray.hist[2] >= 30 )]\n",
    "Prays = [ray for ray in Rrays if (ray.bounces ==1 and ray.hist[2] <= 30 )]\n",
    "Hx, Hy = np.array([ray.hist[0] for ray in Hrays]), np.array([ray.hist[1] for ray in Hrays])\n",
    "Px, Py = np.array([ray.hist[0] for ray in Prays]), np.array([ray.hist[1] for ray in Prays])"
   ]
  },
  {
   "cell_type": "code",
   "execution_count": 7,
   "metadata": {},
   "outputs": [
    {
     "ename": "NameError",
     "evalue": "name 'Px' is not defined",
     "output_type": "error",
     "traceback": [
      "\u001b[0;31m---------------------------------------------------------------------------\u001b[0m",
      "\u001b[0;31mNameError\u001b[0m                                 Traceback (most recent call last)",
      "\u001b[0;32m<ipython-input-7-a08a867d6515>\u001b[0m in \u001b[0;36m<module>\u001b[0;34m()\u001b[0m\n\u001b[1;32m     11\u001b[0m \u001b[0;34m\u001b[0m\u001b[0m\n\u001b[1;32m     12\u001b[0m \u001b[0;31m# Plot random points\u001b[0m\u001b[0;34m\u001b[0m\u001b[0;34m\u001b[0m\u001b[0m\n\u001b[0;32m---> 13\u001b[0;31m \u001b[0mplt\u001b[0m\u001b[0;34m.\u001b[0m\u001b[0mscatter\u001b[0m\u001b[0;34m(\u001b[0m\u001b[0mPx\u001b[0m\u001b[0;34m,\u001b[0m\u001b[0mPy\u001b[0m\u001b[0;34m,\u001b[0m\u001b[0ms\u001b[0m\u001b[0;34m=\u001b[0m\u001b[0;36m0.5\u001b[0m\u001b[0;34m,\u001b[0m\u001b[0mcolor\u001b[0m\u001b[0;34m=\u001b[0m\u001b[0;34m'b'\u001b[0m\u001b[0;34m)\u001b[0m\u001b[0;34m\u001b[0m\u001b[0m\n\u001b[0m\u001b[1;32m     14\u001b[0m \u001b[0mplt\u001b[0m\u001b[0;34m.\u001b[0m\u001b[0mscatter\u001b[0m\u001b[0;34m(\u001b[0m\u001b[0mHx\u001b[0m\u001b[0;34m,\u001b[0m\u001b[0mHy\u001b[0m\u001b[0;34m,\u001b[0m\u001b[0ms\u001b[0m\u001b[0;34m=\u001b[0m\u001b[0;36m0.5\u001b[0m\u001b[0;34m,\u001b[0m\u001b[0mcolor\u001b[0m\u001b[0;34m=\u001b[0m\u001b[0;34m'r'\u001b[0m\u001b[0;34m)\u001b[0m\u001b[0;34m\u001b[0m\u001b[0m\n\u001b[1;32m     15\u001b[0m \u001b[0mplt\u001b[0m\u001b[0;34m.\u001b[0m\u001b[0mtitle\u001b[0m\u001b[0;34m(\u001b[0m\u001b[0;34m'10e6 Rays Hiting the Paraboloid mirror 30\\' off-axis [1AU]'\u001b[0m\u001b[0;34m)\u001b[0m\u001b[0;34m\u001b[0m\u001b[0m\n",
      "\u001b[0;31mNameError\u001b[0m: name 'Px' is not defined"
     ]
    },
    {
     "data": {
      "image/png": "[encoded data removed]",
      "text/plain": [
       "<matplotlib.figure.Figure at 0x1110cf710>"
      ]
     },
     "metadata": {},
     "output_type": "display_data"
    }
   ],
   "source": [
    "import matplotlib.pyplot as plt\n",
    "fig = plt.figure(figsize=(7,7))\n",
    "ax = fig.gca()\n",
    "# Plot Shells\n",
    "FrontRadii = [5.345, 5.085, 4.835, 4.595, 4.365, 4.15, 3.94]\n",
    "InterRadii = [5.15, 4.9, 4.66, 4.43, 4.21, 4.0, 3.8]\n",
    "InnerRadii = [4.56, 4.335, 4.125, 3.92, 3.725, 3.54, 3.36 ]\n",
    "for r in InterRadii:\n",
    "    c = plt.Circle((0, 0), r, color='g',fill=False)\n",
    "    ax.add_artist(c)\n",
    "\n",
    "# Plot random points\n",
    "plt.scatter(Px,Py,s=0.5,color='b')\n",
    "plt.scatter(Hx,Hy,s=0.5,color='r')\n",
    "plt.title('10e6 Rays Hiting the Paraboloid mirror 30\\' off-axis [1AU]')\n",
    "plt.xlabel('[cm]')\n",
    "plt.ylabel('[cm]')\n",
    "plt.xlim(-6,6);plt.ylim(-6,6)\n",
    "plt.show()"
   ]
  },
  {
   "cell_type": "code",
   "execution_count": null,
   "metadata": {
    "collapsed": true
   },
   "outputs": [],
   "source": []
  },
  {
   "cell_type": "code",
   "execution_count": null,
   "metadata": {
    "collapsed": true
   },
   "outputs": [],
   "source": []
  },
  {
   "cell_type": "code",
   "execution_count": null,
   "metadata": {
    "collapsed": true
   },
   "outputs": [],
   "source": []
  },
  {
   "cell_type": "markdown",
   "metadata": {},
   "source": [
    "Let's save the rays. Testing the program to save the rays:"
   ]
  },
  {
   "cell_type": "markdown",
   "metadata": {},
   "source": [
    "A file containing the next piece of code was created and saved in a folder called 1millionRays that contains 1 million rays generated that interact with the modules. "
   ]
  },
  {
   "cell_type": "code",
   "execution_count": 45,
   "metadata": {},
   "outputs": [
    {
     "name": "stdout",
     "output_type": "stream",
     "text": [
      "r0 =  5.340631866960363\n",
      "r1 =  3.36\n"
     ]
    }
   ],
   "source": [
    "import numpy as np\n",
    "from foxsisim.source import Source\n",
    "from foxsisim.module import Module\n",
    "Sdist = -1.5e13           ## cm\n",
    "offaxisAngle = 30.0     ## arcmin\n",
    "source = Source(type='point',center=[0, -Sdist * np.sin(np.deg2rad(offaxisAngle / 60.0)), Sdist ])\n",
    "module = Module(core_radius=3.36)\n",
    "n = 500\n",
    "rays = source.generateRays(module.targetFront,n)\n",
    "module.passRays(rays)\n",
    "Rrays = [ray for ray in rays if (ray.tag != 'Source')] #kills the passthrough rays\n",
    "from foxsisim.util import save_rays\n",
    "save_rays(Rrays,filename='rays_on_module.csv')\n",
    "print(len(Rrays))\n",
    "print('Done!')"
   ]
  },
  {
   "cell_type": "code",
   "execution_count": null,
   "metadata": {},
   "outputs": [],
   "source": []
  },
  {
   "cell_type": "code",
   "execution_count": 36,
   "metadata": {},
   "outputs": [],
   "source": []
  },
  {
   "cell_type": "code",
   "execution_count": null,
   "metadata": {},
   "outputs": [],
   "source": []
  },
  {
   "cell_type": "code",
   "execution_count": null,
   "metadata": {},
   "outputs": [],
   "source": []
  },
  {
   "cell_type": "code",
   "execution_count": null,
   "metadata": {
    "collapsed": true
   },
   "outputs": [],
   "source": []
  },
  {
   "cell_type": "code",
   "execution_count": null,
   "metadata": {
    "collapsed": true
   },
   "outputs": [],
   "source": []
  },
  {
   "cell_type": "code",
   "execution_count": null,
   "metadata": {
    "collapsed": true
   },
   "outputs": [],
   "source": []
  },
  {
   "cell_type": "code",
   "execution_count": null,
   "metadata": {
    "collapsed": true
   },
   "outputs": [],
   "source": []
  }
 ],
 "metadata": {
  "kernelspec": {
   "display_name": "Python 3",
   "language": "python",
   "name": "python3"
  },
  "language_info": {
   "codemirror_mode": {
    "name": "ipython",
    "version": 3
   },
   "file_extension": ".py",
   "mimetype": "text/x-python",
   "name": "python",
   "nbconvert_exporter": "python",
   "pygments_lexer": "ipython3",
   "version": "3.6.4"
  }
 },
 "nbformat": 4,
 "nbformat_minor": 2
}
