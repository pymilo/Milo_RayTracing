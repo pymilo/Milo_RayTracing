{
 "cells": [
  {
   "cell_type": "markdown",
   "metadata": {},
   "source": [
    "# Reading off-axis rays from CSV files to plot Hyp and Par hits on the module shells"
   ]
  },
  {
   "cell_type": "markdown",
   "metadata": {},
   "source": [
    "### @Milo, Dec 2017"
   ]
  },
  {
   "cell_type": "markdown",
   "metadata": {},
   "source": [
    "Reading 30arcmin off-axis rays"
   ]
  },
  {
   "cell_type": "markdown",
   "metadata": {},
   "source": [
    "Defining customed function to read the rays:"
   ]
  },
  {
   "cell_type": "code",
   "execution_count": 21,
   "metadata": {},
   "outputs": [
    {
     "name": "stdout",
     "output_type": "stream",
     "text": [
      "Rays from /Users/Kamilobu/Desktop/MakeRays/30arcmin/run00.csv loaded.\n",
      "Rays from /Users/Kamilobu/Desktop/MakeRays/30arcmin/run00.csv loaded.\n",
      "Number of rays0 : 200000\n"
     ]
    }
   ],
   "source": [
    "Rrays0 = load_rays('/Users/Kamilobu/Desktop/MakeRays/30arcmin/run00.csv')\n",
    "Rrays1 = load_rays('/Users/Kamilobu/Desktop/MakeRays/30arcmin/run00.csv')\n",
    "Rrays = Rrays0 + Rrays1\n",
    "print('Number of rays0 : {:d}'.format(len(Rrays)))"
   ]
  },
  {
   "cell_type": "code",
   "execution_count": 32,
   "metadata": {
    "collapsed": true
   },
   "outputs": [],
   "source": [
    "prays = [ray.pos for ray in Rrays]\n",
    "orays = [ray.ori for ray in Rrays]\n",
    "srays = [ray.src for ray in Rrays]\n",
    "drays = [ray.des for ray in Rrays]\n",
    "trays = [ray.tag for ray in Rrays]\n",
    "hrays = [ray.hist for ray in Rrays]\n",
    "brays = [ray.bounces for ray in Rrays]\n",
    "deadrays = [ray.dead for ray in Rrays]\n",
    "\n",
    "Hrays = [ray for ray in Rrays if (ray.bounces ==1 and ray.hist[2] >= 30 )]\n",
    "Prays = [ray for ray in Rrays if (ray.bounces ==1 and ray.hist[2] <= 30 )]\n",
    "Hx, Hy = np.array([ray.hist[0] for ray in Hrays]), np.array([ray.hist[1] for ray in Hrays])\n",
    "Px, Py = np.array([ray.hist[0] for ray in Prays]), np.array([ray.hist[1] for ray in Prays])"
   ]
  },
  {
   "cell_type": "code",
   "execution_count": 30,
   "metadata": {},
   "outputs": [],
   "source": [
    "Hx = np.array([ray.hist[1] for ray in Hrays])"
   ]
  },
  {
   "cell_type": "code",
   "execution_count": null,
   "metadata": {},
   "outputs": [],
   "source": []
  },
  {
   "cell_type": "code",
   "execution_count": null,
   "metadata": {
    "collapsed": true
   },
   "outputs": [],
   "source": []
  },
  {
   "cell_type": "code",
   "execution_count": null,
   "metadata": {
    "collapsed": true
   },
   "outputs": [],
   "source": []
  },
  {
   "cell_type": "code",
   "execution_count": null,
   "metadata": {
    "collapsed": true
   },
   "outputs": [],
   "source": []
  },
  {
   "cell_type": "code",
   "execution_count": null,
   "metadata": {
    "collapsed": true
   },
   "outputs": [],
   "source": []
  },
  {
   "cell_type": "code",
   "execution_count": null,
   "metadata": {
    "collapsed": true
   },
   "outputs": [],
   "source": []
  },
  {
   "cell_type": "code",
   "execution_count": null,
   "metadata": {
    "collapsed": true
   },
   "outputs": [],
   "source": []
  },
  {
   "cell_type": "code",
   "execution_count": null,
   "metadata": {
    "collapsed": true
   },
   "outputs": [],
   "source": []
  },
  {
   "cell_type": "code",
   "execution_count": null,
   "metadata": {
    "collapsed": true
   },
   "outputs": [],
   "source": []
  },
  {
   "cell_type": "code",
   "execution_count": null,
   "metadata": {
    "collapsed": true
   },
   "outputs": [],
   "source": []
  },
  {
   "cell_type": "code",
   "execution_count": null,
   "metadata": {
    "collapsed": true
   },
   "outputs": [],
   "source": []
  }
 ],
 "metadata": {
  "kernelspec": {
   "display_name": "Python 3",
   "language": "python",
   "name": "python3"
  },
  "language_info": {
   "codemirror_mode": {
    "name": "ipython",
    "version": 3
   },
   "file_extension": ".py",
   "mimetype": "text/x-python",
   "name": "python",
   "nbconvert_exporter": "python",
   "pygments_lexer": "ipython3",
   "version": "3.6.3"
  }
 },
 "nbformat": 4,
 "nbformat_minor": 2
}
