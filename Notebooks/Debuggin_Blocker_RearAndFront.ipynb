{
 "cells": [
  {
   "cell_type": "markdown",
   "metadata": {},
   "source": [
    "# Debugging whether or not the simulation includes the rear blocker\n",
    "## @Milo\n",
    "## January, 2018"
   ]
  },
  {
   "cell_type": "markdown",
   "metadata": {},
   "source": [
    "#### The already \"inclusion\" of the Front blocker might be an effect of the way as the rays are generated since they are randomly created using the pupil af the FOXSI module as a key parameter (cross-section). The pupil already includes the front blocker. The rear blocker is removed in lines 105 and 106 of module.py"
   ]
  },
  {
   "cell_type": "markdown",
   "metadata": {},
   "source": [
    "# Creating Rays"
   ]
  },
  {
   "cell_type": "code",
   "execution_count": 42,
   "metadata": {},
   "outputs": [
    {
     "name": "stdout",
     "output_type": "stream",
     "text": [
      "Rays saved in file : ../../../../Desktop/30rays_test.csv\n",
      "100  rays saved\n",
      "Done!\n"
     ]
    }
   ],
   "source": [
    "import numpy as np\n",
    "from foxsisim.source import Source\n",
    "from foxsisim.module import Module\n",
    "Sdist = -1.5e13         ## cm\n",
    "offaxisAngle = 0.0     ## arcmin\n",
    "source = Source(type='point',center=[0, -Sdist * np.sin(np.deg2rad(offaxisAngle / 60.0)), Sdist ])\n",
    "module = Module(radii = [3.17], core_radius=(3.17,0.))\n",
    "n = 100\n",
    "rays = source.generateRays(module.targetFront,n)\n",
    "module.passRays(rays)\n",
    "Rrays = [ray for ray in rays if (ray.tag != 'Source')] #kills the passthrough rays\n",
    "from foxsisim.util import save_rays, load_rays\n",
    "save_rays(Rrays,filename='../../../../Desktop/30rays_test.csv')\n",
    "print(len(Rrays),' rays saved')\n",
    "print('Done!')"
   ]
  },
  {
   "cell_type": "markdown",
   "metadata": {},
   "source": [
    "### Testing the most inner Wolter-I of a 10-shell FOXSI module"
   ]
  },
  {
   "cell_type": "markdown",
   "metadata": {},
   "source": [
    "### Using the modified version of FOXSISIM in branch pymilo/Random-Source-Debugging on February 2, 2018"
   ]
  },
  {
   "cell_type": "markdown",
   "metadata": {},
   "source": [
    "Now, that we can introduce in the code the size of both the front and rear blocker, I want to test for an On-axis source at 1AU what happen for different size of front blocker and then for the rear blocker."
   ]
  },
  {
   "cell_type": "markdown",
   "metadata": {},
   "source": [
    " # Optimizing FRONT Blocker size for NO Rear blocker"
   ]
  },
  {
   "cell_type": "code",
   "execution_count": 74,
   "metadata": {},
   "outputs": [
    {
     "name": "stdout",
     "output_type": "stream",
     "text": [
      "Front radius: 2.623000\n",
      "Rays saved in file : ../../../../Desktop/rays_FB/rays_FBR_=_2.623.csv\n",
      "Front radius: 2.673000\n",
      "Rays saved in file : ../../../../Desktop/rays_FB/rays_FBR_=_2.673.csv\n",
      "Front radius: 2.723000\n",
      "Rays saved in file : ../../../../Desktop/rays_FB/rays_FBR_=_2.723.csv\n",
      "Front radius: 2.773000\n",
      "Rays saved in file : ../../../../Desktop/rays_FB/rays_FBR_=_2.773.csv\n",
      "Front radius: 2.823000\n",
      "Rays saved in file : ../../../../Desktop/rays_FB/rays_FBR_=_2.823.csv\n",
      "Front radius: 2.873000\n",
      "Rays saved in file : ../../../../Desktop/rays_FB/rays_FBR_=_2.873.csv\n",
      "Front radius: 2.923000\n",
      "Rays saved in file : ../../../../Desktop/rays_FB/rays_FBR_=_2.923.csv\n",
      "Front radius: 2.973000\n",
      "Rays saved in file : ../../../../Desktop/rays_FB/rays_FBR_=_2.973.csv\n",
      "Front radius: 3.023000\n",
      "Rays saved in file : ../../../../Desktop/rays_FB/rays_FBR_=_3.023.csv\n",
      "Front radius: 3.073000\n",
      "Rays saved in file : ../../../../Desktop/rays_FB/rays_FBR_=_3.073.csv\n",
      "Front radius: 3.123000\n",
      "Rays saved in file : ../../../../Desktop/rays_FB/rays_FBR_=_3.123.csv\n",
      "Front radius: 3.173000\n",
      "Rays saved in file : ../../../../Desktop/rays_FB/rays_FBR_=_3.173.csv\n",
      "Front radius: 3.223000\n",
      "Rays saved in file : ../../../../Desktop/rays_FB/rays_FBR_=_3.223.csv\n",
      "Front radius: 3.273000\n",
      "Rays saved in file : ../../../../Desktop/rays_FB/rays_FBR_=_3.273.csv\n"
     ]
    }
   ],
   "source": [
    "import numpy as np\n",
    "from foxsisim.source import Source\n",
    "from foxsisim.module import Module\n",
    "from foxsisim.util import load_rays, save_rays\n",
    "\n",
    "Sdist = -1.5e13         ## cm\n",
    "offaxisAngle = 0.0     ## arcmin\n",
    "n = 100\n",
    "fbrs = np.arange(2.623,3.29,0.05) # Front blocker radius ranging from 2.623 cm to 3.273\n",
    "source = Source(type='point',center=[0, -Sdist * np.sin(np.deg2rad(offaxisAngle / 60.0)), Sdist ])\n",
    "\n",
    "for fbr in fbrs:\n",
    "    print('Front radius: %f' % fbr)\n",
    "    module = Module(radii = [3.17], core_radius=(fbr,0.))\n",
    "    rays = source.generateRays(module.targetFront,n)\n",
    "    module.passRays(rays)\n",
    "    Rrays = [ray for ray in rays if (ray.tag != 'Source')] #kills the passthrough rays\n",
    "    save_rays(Rrays,filename='../../../../Desktop/rays_FB/rays_FBR_=_'+str(fbr)+'.csv')"
   ]
  },
  {
   "cell_type": "code",
   "execution_count": 67,
   "metadata": {},
   "outputs": [
    {
     "data": {
      "text/plain": [
       "array([ 2.623,  2.673,  2.723,  2.773,  2.823,  2.873,  2.923,  2.973,\n",
       "        3.023,  3.073,  3.123,  3.173,  3.223,  3.273])"
      ]
     },
     "execution_count": 67,
     "metadata": {},
     "output_type": "execute_result"
    }
   ],
   "source": [
    "fbr = np.arange(2.623,3.29,0.05)\n",
    "fbr"
   ]
  },
  {
   "cell_type": "code",
   "execution_count": 69,
   "metadata": {},
   "outputs": [
    {
     "data": {
      "text/plain": [
       "'2.623'"
      ]
     },
     "execution_count": 69,
     "metadata": {},
     "output_type": "execute_result"
    }
   ],
   "source": [
    "str(fbr[0])"
   ]
  },
  {
   "cell_type": "code",
   "execution_count": null,
   "metadata": {},
   "outputs": [],
   "source": []
  },
  {
   "cell_type": "code",
   "execution_count": 39,
   "metadata": {},
   "outputs": [
    {
     "name": "stdout",
     "output_type": "stream",
     "text": [
      "Rays from /Users/Kamilobu/Desktop/30rays_test.csv loaded.\n",
      "Number of rays : 100\n"
     ]
    }
   ],
   "source": [
    "# Loading Rays:\n",
    "Brays = load_rays('/Users/Kamilobu/Desktop/30rays_test.csv')\n",
    "print('Number of rays : {:d}'.format(len(Brays)))\n",
    "\n",
    "# Create detector:\n",
    "from foxsisim.detector import Detector\n",
    "detector = Detector(width=10,\n",
    "                    height=10,\n",
    "                    normal = [0,0,1],\n",
    "                    center = [0,0,230],\n",
    "                    reso = [1024,1024])\n",
    "\n",
    "# Fix little bug in rays:\n",
    "for ray in Brays:\n",
    "    ray.hist = ray.hist.tolist()\n",
    "\n",
    "# Detector Catch rays:\n",
    "detector.catchRays(Brays)"
   ]
  },
  {
   "cell_type": "code",
   "execution_count": 40,
   "metadata": {},
   "outputs": [],
   "source": [
    "Drays = [ray for ray in Brays if (ray.des[2]==230.0 and ray.bounces ==2 )]\n",
    "Srays = [ray for ray in Brays if (ray.des[2]==230.0 and ray.bounces ==1 )]\n",
    "Hrays = [ray for ray in Brays if (ray.des[2]==230.0 and ray.bounces ==1 and ray.tag[-4:] == 'Hy-D' )]\n",
    "Prays = [ray for ray in Brays if (ray.des[2]==230.0 and ray.bounces ==1 and ray.tag[-4:] == 'Pa-D' )]\n",
    "\n",
    "#sim_scale = 1.0    # 1cm = 17.4 arcmin\n",
    "sim_scale = 17.4    # 1cm = 17.4 arcmin\n",
    "\n",
    "#Hyperboloid\n",
    "Hx, Hy = [], []\n",
    "for ray in Hrays:\n",
    "    Hx.append(ray.pos[0]*sim_scale)\n",
    "    Hy.append(ray.pos[1]*sim_scale)\n",
    "\n",
    "# Paraboloid\n",
    "Px, Py = [], []\n",
    "for ray in Prays:\n",
    "    Px.append(ray.pos[0]*sim_scale)\n",
    "    Py.append(ray.pos[1]*sim_scale)\n",
    "\n",
    "# Double\n",
    "Dx, Dy = [], []\n",
    "for ray in Drays:\n",
    "    Dx.append(ray.pos[0]*sim_scale)\n",
    "    Dy.append(ray.pos[1]*sim_scale)\n",
    "    "
   ]
  },
  {
   "cell_type": "code",
   "execution_count": 41,
   "metadata": {},
   "outputs": [
    {
     "data": {
      "image/png": "[encoded data removed]",
      "text/plain": [
       "<matplotlib.figure.Figure at 0x1a171bd320>"
      ]
     },
     "metadata": {},
     "output_type": "display_data"
    }
   ],
   "source": [
    "import matplotlib.pyplot as plt \n",
    "fig = plt.figure(figsize=(5,5))\n",
    "plt.title('FOXSI 30arcmin 100m',fontsize=24)\n",
    "plt.xlabel('arcmin',fontsize=18)\n",
    "plt.ylabel('arcmin',fontsize=18)\n",
    "plt.yticks(fontsize=12)\n",
    "plt.xticks(fontsize=12)\n",
    "plt.scatter(Hx,Hy,color='red',s=100.,alpha=0.8)\n",
    "plt.scatter(Px,Py,color='blue',s=100.,alpha=0.8)\n",
    "plt.scatter(Dx,Dy,color='green',s=100.,alpha=0.8)\n",
    "#plt.ylim(-2.5,0.5)\n",
    "#plt.xlim(-2.,2.)\n",
    "plt.show()"
   ]
  },
  {
   "cell_type": "code",
   "execution_count": 31,
   "metadata": {},
   "outputs": [
    {
     "name": "stdout",
     "output_type": "stream",
     "text": [
      "Initial rays: 10 \n",
      "Number of Double rays: 5 \n",
      "Number of Hyperb rays: 5 \n",
      "Number of Parabo rays: 0 \n"
     ]
    }
   ],
   "source": [
    "print('Initial rays: {:d} '.format(len(Brays)))\n",
    "print('Number of Double rays: {:d} '.format(len(Drays)))\n",
    "print('Number of Hyperb rays: {:d} '.format(len(Hrays)))\n",
    "print('Number of Parabo rays: {:d} '.format(len(Prays)))"
   ]
  },
  {
   "cell_type": "code",
   "execution_count": null,
   "metadata": {},
   "outputs": [],
   "source": []
  },
  {
   "cell_type": "code",
   "execution_count": null,
   "metadata": {},
   "outputs": [],
   "source": []
  }
 ],
 "metadata": {
  "kernelspec": {
   "display_name": "Python 3",
   "language": "python",
   "name": "python3"
  },
  "language_info": {
   "codemirror_mode": {
    "name": "ipython",
    "version": 3
   },
   "file_extension": ".py",
   "mimetype": "text/x-python",
   "name": "python",
   "nbconvert_exporter": "python",
   "pygments_lexer": "ipython3",
   "version": "3.6.4"
  }
 },
 "nbformat": 4,
 "nbformat_minor": 2
}
