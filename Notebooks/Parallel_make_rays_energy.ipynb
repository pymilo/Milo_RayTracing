{
 "cells": [
  {
   "cell_type": "markdown",
   "metadata": {},
   "source": [
    "## Clever way to Parallel Making rays with energy response\n",
    "### Milo "
   ]
  },
  {
   "cell_type": "code",
   "execution_count": 16,
   "metadata": {},
   "outputs": [],
   "source": [
    "## Generate rays and save them in a CSV file for Iridium mirrors.\n",
    "## @Milo\n",
    "## May 2020\n",
    "import multiprocessing\n",
    "import numpy as np\n",
    "import matplotlib.pyplot as plt\n",
    "import time\n",
    "from foxsisim.module import Module\n",
    "from foxsisim.source import Source\n",
    "from foxsisim.util import save_rays\n",
    "\n",
    "''' Defining Input Spectrum '''\n",
    "def spectrum(z):\n",
    "        max_energy = 100.0       ## Maximum energy\n",
    "        if (type(z) is not type([1])) and (type(z) is not type(np.array(1))):\n",
    "            x = np.array([z])\n",
    "        else:\n",
    "            x = np.array(z)\n",
    "        return np.piecewise(x, [x < 0, ((x < max_energy) & (x > 0)), (x >= max_energy)], [0, 1./max_energy, 0])\n",
    "\n",
    "\n",
    "def make_rays(angle,nrays,proc):\n",
    "    fbr = 6.296              ## Front blocker radius\n",
    "    rbr = 5.99               ## Rear blocker radius\n",
    "\n",
    "    # Creating the FOXSI telescope\n",
    "    module = Module(radii = [9.333,9.153,8.973,8.793,8.613,8.434,8.255,\n",
    "                             8.076,7.897,7.718,7.540,7.362,7.184,7.006,\n",
    "                             6.828,6.650,6.473,6.296], focal=1400.0, core_radius=(fbr,rbr))\n",
    "\n",
    "    Sdist = -1.5e13         ## Source distance in cm\n",
    "    Xs = -Sdist * np.sin(np.deg2rad(np.sqrt(2.) * angle / 120.0))\n",
    "    Ys = -Sdist * np.sin(np.deg2rad(np.sqrt(2.) * angle / 120.0))\n",
    "    source = Source(type='point', center=[Xs, Ys, Sdist ])\n",
    "    source.loadSpectrum(spectrum)\n",
    "\n",
    "    # Generating rays\n",
    "    rays = source.generateRays(module.targetFront, nrays)\n",
    "    # Passing rays\n",
    "    module.passRays(rays)\n",
    "    Trays = [ray for ray in rays if (ray.dead==False)] ## save only those alive rays\n",
    "    save_rays(Trays,filename=f'rays_Angle_=_{angle}_{proc}.csv')\n"
   ]
  },
  {
   "cell_type": "code",
   "execution_count": 19,
   "metadata": {},
   "outputs": [
    {
     "name": "stdout",
     "output_type": "stream",
     "text": [
      "Rays saved in file : rays_Angle_=_0.0_4.csv\n",
      "Rays saved in file : rays_Angle_=_0.0_3.csv\n",
      "Rays saved in file : rays_Angle_=_0.0_1.csv\n",
      "Rays saved in file : rays_Angle_=_0.0_2.csv\n",
      "Finished in 62.83 second(s)\n"
     ]
    }
   ],
   "source": [
    "angle = 0.0  # Off-axis angle [arcmin]\n",
    "nrays = 1600   # Number of rays\n",
    "Nproc = 4    # Number of Process in Parallel\n",
    "processes = []\n",
    "start = time.perf_counter()\n",
    "for proc in range(Nproc):\n",
    "    p = multiprocessing.Process(target=make_rays, args=[angle,nrays,proc+1])\n",
    "    p.start()\n",
    "    processes.append(p)\n",
    "for process in processes: process.join()\n",
    "finish = time.perf_counter()\n",
    "print(f'Finished in {round(finish-start, 2)} second(s)')"
   ]
  },
  {
   "cell_type": "code",
   "execution_count": null,
   "metadata": {},
   "outputs": [],
   "source": []
  },
  {
   "cell_type": "code",
   "execution_count": null,
   "metadata": {},
   "outputs": [],
   "source": []
  },
  {
   "cell_type": "code",
   "execution_count": null,
   "metadata": {},
   "outputs": [],
   "source": []
  },
  {
   "cell_type": "code",
   "execution_count": null,
   "metadata": {},
   "outputs": [],
   "source": []
  },
  {
   "cell_type": "code",
   "execution_count": null,
   "metadata": {},
   "outputs": [],
   "source": []
  },
  {
   "cell_type": "code",
   "execution_count": null,
   "metadata": {},
   "outputs": [],
   "source": []
  },
  {
   "cell_type": "code",
   "execution_count": null,
   "metadata": {},
   "outputs": [],
   "source": []
  },
  {
   "cell_type": "code",
   "execution_count": null,
   "metadata": {},
   "outputs": [],
   "source": []
  },
  {
   "cell_type": "code",
   "execution_count": null,
   "metadata": {},
   "outputs": [],
   "source": []
  },
  {
   "cell_type": "code",
   "execution_count": null,
   "metadata": {},
   "outputs": [],
   "source": []
  }
 ],
 "metadata": {
  "kernelspec": {
   "display_name": "Python 3",
   "language": "python",
   "name": "python3"
  },
  "language_info": {
   "codemirror_mode": {
    "name": "ipython",
    "version": 3
   },
   "file_extension": ".py",
   "mimetype": "text/x-python",
   "name": "python",
   "nbconvert_exporter": "python",
   "pygments_lexer": "ipython3",
   "version": "3.7.4"
  },
  "latex_envs": {
   "LaTeX_envs_menu_present": true,
   "autoclose": false,
   "autocomplete": true,
   "bibliofile": "biblio.bib",
   "cite_by": "apalike",
   "current_citInitial": 1,
   "eqLabelWithNumbers": true,
   "eqNumInitial": 1,
   "hotkeys": {
    "equation": "Ctrl-E",
    "itemize": "Ctrl-I"
   },
   "labels_anchors": false,
   "latex_user_defs": false,
   "report_style_numbering": false,
   "user_envs_cfg": false
  }
 },
 "nbformat": 4,
 "nbformat_minor": 2
}
