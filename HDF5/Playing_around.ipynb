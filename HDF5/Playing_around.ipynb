{
 "cells": [
  {
   "cell_type": "markdown",
   "metadata": {},
   "source": [
    "# Reflectivity used in the FOXSISIM"
   ]
  },
  {
   "cell_type": "markdown",
   "metadata": {},
   "source": [
    "How to read HDF5 files?"
   ]
  },
  {
   "cell_type": "markdown",
   "metadata": {},
   "source": [
    "### Generalities on HDF5 files:"
   ]
  },
  {
   "cell_type": "markdown",
   "metadata": {},
   "source": [
    "**HDF** stands for Hierarchical Data Format. <br/>\n",
    "A HDF5 file is a **container** for **datasets** and **groups**. <br/>\n",
    "**Groups work like containers, datasets work like Numpy arrays**."
   ]
  },
  {
   "cell_type": "code",
   "execution_count": 1,
   "metadata": {},
   "outputs": [],
   "source": [
    "import numpy as np\n",
    "import h5py\n",
    "''' Read the file '''\n",
    "f = h5py.File('reflectivity_data_works.hdf5','r') ## Object Dictionary-like."
   ]
  },
  {
   "cell_type": "code",
   "execution_count": 2,
   "metadata": {},
   "outputs": [
    {
     "data": {
      "text/plain": [
       "['angle', 'energy', 'reflectivity']"
      ]
     },
     "execution_count": 2,
     "metadata": {},
     "output_type": "execute_result"
    }
   ],
   "source": [
    "'''Chechk the keys:'''\n",
    "list(f.keys())"
   ]
  },
  {
   "cell_type": "code",
   "execution_count": 46,
   "metadata": {},
   "outputs": [
    {
     "data": {
      "text/plain": [
       "<HDF5 dataset \"ir\": shape (30, 501), type \"<f8\">"
      ]
     },
     "execution_count": 46,
     "metadata": {},
     "output_type": "execute_result"
    }
   ],
   "source": [
    "f['reflectivity/ir']"
   ]
  },
  {
   "cell_type": "code",
   "execution_count": 50,
   "metadata": {},
   "outputs": [
    {
     "data": {
      "text/plain": [
       "array([0.986524, 0.979129, 0.982429, 0.984373, 0.985721, 0.986736,\n",
       "       0.987518, 0.988108, 0.988491, 0.988226, 0.973758, 0.965073,\n",
       "       0.964872, 0.966992, 0.968545, 0.969829, 0.970942, 0.97193 ,\n",
       "       0.972822, 0.973635, 0.974382, 0.975071, 0.975711, 0.976306,\n",
       "       0.976862, 0.977382, 0.977869, 0.978328, 0.978748, 0.      ])"
      ]
     },
     "execution_count": 50,
     "metadata": {},
     "output_type": "execute_result"
    }
   ],
   "source": [
    "f['reflectivity/ir'][()][:,2]"
   ]
  },
  {
   "cell_type": "code",
   "execution_count": 49,
   "metadata": {},
   "outputs": [
    {
     "data": {
      "text/plain": [
       "array([ 0.  ,  0.02,  0.04,  0.06,  0.08,  0.1 ,  0.12,  0.14,  0.16,\n",
       "        0.18,  0.2 ,  0.22,  0.24,  0.26,  0.28,  0.3 ,  0.32,  0.34,\n",
       "        0.36,  0.38,  0.4 ,  0.42,  0.44,  0.46,  0.48,  0.5 ,  0.52,\n",
       "        0.54,  0.56,  0.58,  0.6 ,  0.62,  0.64,  0.66,  0.68,  0.7 ,\n",
       "        0.72,  0.74,  0.76,  0.78,  0.8 ,  0.82,  0.84,  0.86,  0.88,\n",
       "        0.9 ,  0.92,  0.94,  0.96,  0.98,  1.  ,  1.02,  1.04,  1.06,\n",
       "        1.08,  1.1 ,  1.12,  1.14,  1.16,  1.18,  1.2 ,  1.22,  1.24,\n",
       "        1.26,  1.28,  1.3 ,  1.32,  1.34,  1.36,  1.38,  1.4 ,  1.42,\n",
       "        1.44,  1.46,  1.48,  1.5 ,  1.52,  1.54,  1.56,  1.58,  1.6 ,\n",
       "        1.62,  1.64,  1.66,  1.68,  1.7 ,  1.72,  1.74,  1.76,  1.78,\n",
       "        1.8 ,  1.82,  1.84,  1.86,  1.88,  1.9 ,  1.92,  1.94,  1.96,\n",
       "        1.98,  2.  ,  2.02,  2.04,  2.06,  2.08,  2.1 ,  2.12,  2.14,\n",
       "        2.16,  2.18,  2.2 ,  2.22,  2.24,  2.26,  2.28,  2.3 ,  2.32,\n",
       "        2.34,  2.36,  2.38,  2.4 ,  2.42,  2.44,  2.46,  2.48,  2.5 ,\n",
       "        2.52,  2.54,  2.56,  2.58,  2.6 ,  2.62,  2.64,  2.66,  2.68,\n",
       "        2.7 ,  2.72,  2.74,  2.76,  2.78,  2.8 ,  2.82,  2.84,  2.86,\n",
       "        2.88,  2.9 ,  2.92,  2.94,  2.96,  2.98,  3.  ,  3.02,  3.04,\n",
       "        3.06,  3.08,  3.1 ,  3.12,  3.14,  3.16,  3.18,  3.2 ,  3.22,\n",
       "        3.24,  3.26,  3.28,  3.3 ,  3.32,  3.34,  3.36,  3.38,  3.4 ,\n",
       "        3.42,  3.44,  3.46,  3.48,  3.5 ,  3.52,  3.54,  3.56,  3.58,\n",
       "        3.6 ,  3.62,  3.64,  3.66,  3.68,  3.7 ,  3.72,  3.74,  3.76,\n",
       "        3.78,  3.8 ,  3.82,  3.84,  3.86,  3.88,  3.9 ,  3.92,  3.94,\n",
       "        3.96,  3.98,  4.  ,  4.02,  4.04,  4.06,  4.08,  4.1 ,  4.12,\n",
       "        4.14,  4.16,  4.18,  4.2 ,  4.22,  4.24,  4.26,  4.28,  4.3 ,\n",
       "        4.32,  4.34,  4.36,  4.38,  4.4 ,  4.42,  4.44,  4.46,  4.48,\n",
       "        4.5 ,  4.52,  4.54,  4.56,  4.58,  4.6 ,  4.62,  4.64,  4.66,\n",
       "        4.68,  4.7 ,  4.72,  4.74,  4.76,  4.78,  4.8 ,  4.82,  4.84,\n",
       "        4.86,  4.88,  4.9 ,  4.92,  4.94,  4.96,  4.98,  5.  ,  5.02,\n",
       "        5.04,  5.06,  5.08,  5.1 ,  5.12,  5.14,  5.16,  5.18,  5.2 ,\n",
       "        5.22,  5.24,  5.26,  5.28,  5.3 ,  5.32,  5.34,  5.36,  5.38,\n",
       "        5.4 ,  5.42,  5.44,  5.46,  5.48,  5.5 ,  5.52,  5.54,  5.56,\n",
       "        5.58,  5.6 ,  5.62,  5.64,  5.66,  5.68,  5.7 ,  5.72,  5.74,\n",
       "        5.76,  5.78,  5.8 ,  5.82,  5.84,  5.86,  5.88,  5.9 ,  5.92,\n",
       "        5.94,  5.96,  5.98,  6.  ,  6.02,  6.04,  6.06,  6.08,  6.1 ,\n",
       "        6.12,  6.14,  6.16,  6.18,  6.2 ,  6.22,  6.24,  6.26,  6.28,\n",
       "        6.3 ,  6.32,  6.34,  6.36,  6.38,  6.4 ,  6.42,  6.44,  6.46,\n",
       "        6.48,  6.5 ,  6.52,  6.54,  6.56,  6.58,  6.6 ,  6.62,  6.64,\n",
       "        6.66,  6.68,  6.7 ,  6.72,  6.74,  6.76,  6.78,  6.8 ,  6.82,\n",
       "        6.84,  6.86,  6.88,  6.9 ,  6.92,  6.94,  6.96,  6.98,  7.  ,\n",
       "        7.02,  7.04,  7.06,  7.08,  7.1 ,  7.12,  7.14,  7.16,  7.18,\n",
       "        7.2 ,  7.22,  7.24,  7.26,  7.28,  7.3 ,  7.32,  7.34,  7.36,\n",
       "        7.38,  7.4 ,  7.42,  7.44,  7.46,  7.48,  7.5 ,  7.52,  7.54,\n",
       "        7.56,  7.58,  7.6 ,  7.62,  7.64,  7.66,  7.68,  7.7 ,  7.72,\n",
       "        7.74,  7.76,  7.78,  7.8 ,  7.82,  7.84,  7.86,  7.88,  7.9 ,\n",
       "        7.92,  7.94,  7.96,  7.98,  8.  ,  8.02,  8.04,  8.06,  8.08,\n",
       "        8.1 ,  8.12,  8.14,  8.16,  8.18,  8.2 ,  8.22,  8.24,  8.26,\n",
       "        8.28,  8.3 ,  8.32,  8.34,  8.36,  8.38,  8.4 ,  8.42,  8.44,\n",
       "        8.46,  8.48,  8.5 ,  8.52,  8.54,  8.56,  8.58,  8.6 ,  8.62,\n",
       "        8.64,  8.66,  8.68,  8.7 ,  8.72,  8.74,  8.76,  8.78,  8.8 ,\n",
       "        8.82,  8.84,  8.86,  8.88,  8.9 ,  8.92,  8.94,  8.96,  8.98,\n",
       "        9.  ,  9.02,  9.04,  9.06,  9.08,  9.1 ,  9.12,  9.14,  9.16,\n",
       "        9.18,  9.2 ,  9.22,  9.24,  9.26,  9.28,  9.3 ,  9.32,  9.34,\n",
       "        9.36,  9.38,  9.4 ,  9.42,  9.44,  9.46,  9.48,  9.5 ,  9.52,\n",
       "        9.54,  9.56,  9.58,  9.6 ,  9.62,  9.64,  9.66,  9.68,  9.7 ,\n",
       "        9.72,  9.74,  9.76,  9.78,  9.8 ,  9.82,  9.84,  9.86,  9.88,\n",
       "        9.9 ,  9.92,  9.94,  9.96,  9.98, 10.  ])"
      ]
     },
     "execution_count": 49,
     "metadata": {},
     "output_type": "execute_result"
    }
   ],
   "source": [
    "f['angle'][()]"
   ]
  },
  {
   "cell_type": "code",
   "execution_count": null,
   "metadata": {},
   "outputs": [],
   "source": []
  },
  {
   "cell_type": "code",
   "execution_count": 42,
   "metadata": {},
   "outputs": [
    {
     "data": {
      "text/plain": [
       "(30, 501)"
      ]
     },
     "execution_count": 42,
     "metadata": {},
     "output_type": "execute_result"
    }
   ],
   "source": [
    "f['reflectivity/ir'][()].shape"
   ]
  },
  {
   "cell_type": "code",
   "execution_count": 8,
   "metadata": {},
   "outputs": [
    {
     "data": {
      "text/plain": [
       "array([ 0.,  1.,  2.,  3.,  4.,  5.,  6.,  7.,  8.,  9., 10.])"
      ]
     },
     "execution_count": 8,
     "metadata": {},
     "output_type": "execute_result"
    }
   ],
   "source": [
    "D_angle[0:501:50]"
   ]
  },
  {
   "cell_type": "code",
   "execution_count": 13,
   "metadata": {},
   "outputs": [
    {
     "data": {
      "text/plain": [
       "array([ 1,  2,  3,  4,  5,  6,  7,  8,  9, 10, 11, 12, 13, 14, 15, 16, 17,\n",
       "       18, 19, 20, 21, 22, 23, 24, 25, 26, 27, 28, 29, 30])"
      ]
     },
     "execution_count": 13,
     "metadata": {},
     "output_type": "execute_result"
    }
   ],
   "source": [
    "D_energy = f['energy']\n",
    "D_energy[:]"
   ]
  },
  {
   "cell_type": "code",
   "execution_count": 22,
   "metadata": {},
   "outputs": [
    {
     "data": {
      "text/plain": [
       "h5py._hl.group.Group"
      ]
     },
     "execution_count": 22,
     "metadata": {},
     "output_type": "execute_result"
    }
   ],
   "source": [
    "D_ref = f['reflectivity']#f['reflectivity']\n",
    "type(D_ref)"
   ]
  },
  {
   "cell_type": "code",
   "execution_count": null,
   "metadata": {},
   "outputs": [],
   "source": []
  },
  {
   "cell_type": "code",
   "execution_count": null,
   "metadata": {},
   "outputs": [],
   "source": []
  },
  {
   "cell_type": "markdown",
   "metadata": {},
   "source": [
    "### Creating a HDF5 file:"
   ]
  },
  {
   "cell_type": "code",
   "execution_count": 1,
   "metadata": {},
   "outputs": [],
   "source": [
    "import h5py\n",
    "import numpy as np\n",
    "f = h5py.File(\"mytestfile.hdf5\", \"w\") ## This is a group."
   ]
  },
  {
   "cell_type": "code",
   "execution_count": 2,
   "metadata": {},
   "outputs": [],
   "source": [
    "dset = f.create_dataset(\"mydataset\",(100,), dtype='i')"
   ]
  },
  {
   "cell_type": "code",
   "execution_count": 3,
   "metadata": {},
   "outputs": [
    {
     "data": {
      "text/plain": [
       "'/mydataset'"
      ]
     },
     "execution_count": 3,
     "metadata": {},
     "output_type": "execute_result"
    }
   ],
   "source": [
    "dset.name"
   ]
  },
  {
   "cell_type": "code",
   "execution_count": 4,
   "metadata": {},
   "outputs": [
    {
     "data": {
      "text/plain": [
       "'/'"
      ]
     },
     "execution_count": 4,
     "metadata": {},
     "output_type": "execute_result"
    }
   ],
   "source": [
    "f.name"
   ]
  },
  {
   "cell_type": "code",
   "execution_count": 5,
   "metadata": {},
   "outputs": [],
   "source": [
    "f = h5py.File(\"mytestfile.hdf5\",\"a\")\n",
    "grp = f.create_group(\"subgroup\")"
   ]
  },
  {
   "cell_type": "code",
   "execution_count": 6,
   "metadata": {},
   "outputs": [
    {
     "data": {
      "text/plain": [
       "'/subgroup/another_dataset'"
      ]
     },
     "execution_count": 6,
     "metadata": {},
     "output_type": "execute_result"
    }
   ],
   "source": [
    "dset2 = grp.create_dataset(\"another_dataset\",(50,),dtype='f')\n",
    "dset2.name"
   ]
  },
  {
   "cell_type": "code",
   "execution_count": 8,
   "metadata": {},
   "outputs": [],
   "source": [
    "f = h5py.File('reflectivity_data.hdf5','r')"
   ]
  },
  {
   "cell_type": "code",
   "execution_count": 10,
   "metadata": {},
   "outputs": [
    {
     "data": {
      "text/plain": [
       "['angle', 'energy', 'reflectivity']"
      ]
     },
     "execution_count": 10,
     "metadata": {},
     "output_type": "execute_result"
    }
   ],
   "source": [
    "list(f.keys())"
   ]
  },
  {
   "cell_type": "code",
   "execution_count": null,
   "metadata": {},
   "outputs": [],
   "source": []
  },
  {
   "cell_type": "code",
   "execution_count": null,
   "metadata": {},
   "outputs": [],
   "source": []
  },
  {
   "cell_type": "code",
   "execution_count": 1,
   "metadata": {},
   "outputs": [
    {
     "name": "stdout",
     "output_type": "stream",
     "text": [
      "Keys: KeysView(<HDF5 file \"reflectivity_data.hdf5\" (mode r)>)\n"
     ]
    }
   ],
   "source": [
    "import h5py\n",
    "filename = 'reflectivity_data.hdf5'\n",
    "f = h5py.File(filename, 'r')\n",
    "\n",
    "# List all groups\n",
    "print(\"Keys: %s\" % f.keys())\n",
    "a_group_key = list(f.keys())[0]\n",
    "\n",
    "# Get the data\n",
    "data = list(f[a_group_key])"
   ]
  },
  {
   "cell_type": "code",
   "execution_count": 24,
   "metadata": {},
   "outputs": [
    {
     "data": {
      "text/plain": [
       "['angle', 'energy', 'reflectivity']"
      ]
     },
     "execution_count": 24,
     "metadata": {},
     "output_type": "execute_result"
    }
   ],
   "source": [
    "list(f.keys())"
   ]
  },
  {
   "cell_type": "code",
   "execution_count": 8,
   "metadata": {},
   "outputs": [
    {
     "data": {
      "text/plain": [
       "'angle'"
      ]
     },
     "execution_count": 8,
     "metadata": {},
     "output_type": "execute_result"
    }
   ],
   "source": [
    "a_group_key"
   ]
  },
  {
   "cell_type": "code",
   "execution_count": 22,
   "metadata": {},
   "outputs": [
    {
     "data": {
      "text/plain": [
       "list"
      ]
     },
     "execution_count": 22,
     "metadata": {},
     "output_type": "execute_result"
    }
   ],
   "source": []
  },
  {
   "cell_type": "code",
   "execution_count": 32,
   "metadata": {},
   "outputs": [],
   "source": [
    "material='Ir'\n",
    "h = h5py.File(\"reflectivity_data.hdf5\", 'r')"
   ]
  },
  {
   "cell_type": "code",
   "execution_count": 33,
   "metadata": {},
   "outputs": [],
   "source": [
    "data = h['reflectivity/' + material.lower()][:]"
   ]
  },
  {
   "cell_type": "code",
   "execution_count": 37,
   "metadata": {},
   "outputs": [
    {
     "data": {
      "text/plain": [
       "(30, 501)"
      ]
     },
     "execution_count": 37,
     "metadata": {},
     "output_type": "execute_result"
    }
   ],
   "source": [
    "h['reflectivity/ir'].shape"
   ]
  },
  {
   "cell_type": "code",
   "execution_count": null,
   "metadata": {},
   "outputs": [],
   "source": []
  },
  {
   "cell_type": "markdown",
   "metadata": {},
   "source": [
    "### Reading every txt file in the \"Iridium\" folder"
   ]
  },
  {
   "cell_type": "code",
   "execution_count": 27,
   "metadata": {},
   "outputs": [],
   "source": [
    "rm 'reflectivity_data.hdf5'"
   ]
  },
  {
   "cell_type": "code",
   "execution_count": 28,
   "metadata": {},
   "outputs": [],
   "source": [
    "import glob\n",
    "import numpy as np\n",
    "import h5py\n",
    "auxR, auxA = [], []\n",
    "\n",
    "for file in glob.glob('Iridium/*.txt'):\n",
    "    auxR.append(np.loadtxt(file)[:,1])\n",
    "    auxA.append(np.loadtxt(file)[:,0])\n",
    "\n",
    "f = h5py.File('reflectivity_data.hdf5', 'a')\n",
    "datar = f.create_dataset('reflectivity/ir', (30, 500), dtype='f',data=np.array(auxR))\n",
    "dataa = f.create_dataset('angle', (500,), dtype='f',data=auxA[0]*0.18/np.pi)\n",
    "dataa = f.create_dataset('energy', (30,), dtype='f',data=np.arange(1,31,1))"
   ]
  },
  {
   "cell_type": "code",
   "execution_count": 29,
   "metadata": {},
   "outputs": [
    {
     "data": {
      "text/plain": [
       "['angle', 'energy', 'reflectivity']"
      ]
     },
     "execution_count": 29,
     "metadata": {},
     "output_type": "execute_result"
    }
   ],
   "source": [
    "list(f.keys())"
   ]
  },
  {
   "cell_type": "code",
   "execution_count": null,
   "metadata": {},
   "outputs": [],
   "source": [
    "## Check these lines:\n",
    "\n",
    "h = h5py.File(os.path.join(path, \"reflectivity_data.hdf5\"), 'r')\n",
    "         data = np.loadtxt(files[0], skiprows=2)\t\t         self.data = h['reflectivity/' + material.lower()][:]\n",
    "         energy = int(re.findall(r\"\\D(\\d{2})\\D\", files[0])[0])\t\t         self.energy_ax = h['energy'][:]\n",
    "         energy_ax = []\t\t         self.angle_ax = h['angle'][:]"
   ]
  },
  {
   "cell_type": "code",
   "execution_count": 66,
   "metadata": {},
   "outputs": [],
   "source": []
  },
  {
   "cell_type": "code",
   "execution_count": null,
   "metadata": {},
   "outputs": [],
   "source": []
  },
  {
   "cell_type": "code",
   "execution_count": null,
   "metadata": {},
   "outputs": [],
   "source": []
  },
  {
   "cell_type": "code",
   "execution_count": null,
   "metadata": {},
   "outputs": [],
   "source": []
  },
  {
   "cell_type": "code",
   "execution_count": null,
   "metadata": {},
   "outputs": [],
   "source": []
  },
  {
   "cell_type": "code",
   "execution_count": null,
   "metadata": {},
   "outputs": [],
   "source": []
  },
  {
   "cell_type": "code",
   "execution_count": null,
   "metadata": {},
   "outputs": [],
   "source": []
  },
  {
   "cell_type": "code",
   "execution_count": null,
   "metadata": {},
   "outputs": [],
   "source": []
  },
  {
   "cell_type": "code",
   "execution_count": null,
   "metadata": {},
   "outputs": [],
   "source": []
  }
 ],
 "metadata": {
  "kernelspec": {
   "display_name": "Python 3",
   "language": "python",
   "name": "python3"
  },
  "language_info": {
   "codemirror_mode": {
    "name": "ipython",
    "version": 3
   },
   "file_extension": ".py",
   "mimetype": "text/x-python",
   "name": "python",
   "nbconvert_exporter": "python",
   "pygments_lexer": "ipython3",
   "version": "3.7.4"
  },
  "latex_envs": {
   "LaTeX_envs_menu_present": true,
   "autoclose": false,
   "autocomplete": true,
   "bibliofile": "biblio.bib",
   "cite_by": "apalike",
   "current_citInitial": 1,
   "eqLabelWithNumbers": true,
   "eqNumInitial": 1,
   "hotkeys": {
    "equation": "Ctrl-E",
    "itemize": "Ctrl-I"
   },
   "labels_anchors": false,
   "latex_user_defs": false,
   "report_style_numbering": false,
   "user_envs_cfg": false
  }
 },
 "nbformat": 4,
 "nbformat_minor": 2
}
